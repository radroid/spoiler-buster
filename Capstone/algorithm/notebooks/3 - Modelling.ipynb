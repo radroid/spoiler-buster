{
 "cells": [
  {
   "cell_type": "markdown",
   "metadata": {},
   "source": [
    "# 3 - Modelling - IMDb Dataset\n",
    "In this noteboook, we will create, evaluate and improve two machine learning models to predict whether a review contains a spoiler.\n",
    "1. Multinomial Naive Bayes\n",
    "2. Support Vector Classifiers\n",
    "\n",
    "> Note: As the dataset size is very large, we are using two simple models to evaluate in this notebook.\n",
    "\n",
    "**Dataset**: [IMDb Spoilers Dataset](https://www.kaggle.com/rmisra/imdb-spoiler-dataset)."
   ]
  },
  {
   "cell_type": "code",
   "execution_count": 1,
   "metadata": {},
   "outputs": [],
   "source": [
    "# Import modules\n",
    "import numpy as np\n",
    "import pandas as pd\n",
    "import matplotlib.pyplot as plt\n",
    "import pathlib\n",
    "import joblib \n",
    "\n",
    "from sklearn.model_selection import train_test_split, learning_curve\n",
    "from sklearn.naive_bayes import MultinomialNB\n",
    "from sklearn.svm import SVC\n",
    "from sklearn.metrics import (\n",
    "    accuracy_score,\n",
    "    classification_report,\n",
    "    plot_confusion_matrix,\n",
    "    f1_score,\n",
    "    roc_auc_score,\n",
    ")\n",
    "from sklearn.feature_extraction.text import CountVectorizer\n",
    "from sklearn.model_selection import cross_val_score\n",
    "\n",
    "import warnings\n",
    "warnings.filterwarnings(\"ignore\")\n",
    "\n",
    "# set random seed\n",
    "np.random.seed(42)"
   ]
  },
  {
   "cell_type": "markdown",
   "metadata": {},
   "source": [
    "# Load Data"
   ]
  },
  {
   "cell_type": "code",
   "execution_count": 2,
   "metadata": {},
   "outputs": [],
   "source": [
    "# locate data files\n",
    "data_dir = pathlib.Path('../data/processed_dataset')\n",
    "filename = 'processed_sample.csv'\n",
    "\n",
    "# Read the json files.\n",
    "data_df = pd.read_csv(data_dir / filename)"
   ]
  },
  {
   "cell_type": "code",
   "execution_count": 3,
   "metadata": {},
   "outputs": [
    {
     "data": {
      "text/html": [
       "<div>\n",
       "<style scoped>\n",
       "    .dataframe tbody tr th:only-of-type {\n",
       "        vertical-align: middle;\n",
       "    }\n",
       "\n",
       "    .dataframe tbody tr th {\n",
       "        vertical-align: top;\n",
       "    }\n",
       "\n",
       "    .dataframe thead th {\n",
       "        text-align: right;\n",
       "    }\n",
       "</style>\n",
       "<table border=\"1\" class=\"dataframe\">\n",
       "  <thead>\n",
       "    <tr style=\"text-align: right;\">\n",
       "      <th></th>\n",
       "      <th>is_spoiler</th>\n",
       "      <th>review_text</th>\n",
       "      <th>review_summary</th>\n",
       "    </tr>\n",
       "  </thead>\n",
       "  <tbody>\n",
       "    <tr>\n",
       "      <th>0</th>\n",
       "      <td>0</td>\n",
       "      <td>seeing movie duty plea e every serious sci fan...</td>\n",
       "      <td>destined movie</td>\n",
       "    </tr>\n",
       "    <tr>\n",
       "      <th>1</th>\n",
       "      <td>0</td>\n",
       "      <td>kept seeing getting compared indiana jones mov...</td>\n",
       "      <td>wish matthew mcconaughey would get struck ligh...</td>\n",
       "    </tr>\n",
       "    <tr>\n",
       "      <th>2</th>\n",
       "      <td>0</td>\n",
       "      <td>dark netflix german tv show talk mysterious di...</td>\n",
       "      <td>incredible incredible</td>\n",
       "    </tr>\n",
       "    <tr>\n",
       "      <th>3</th>\n",
       "      <td>0</td>\n",
       "      <td>start state clich like movie pretentious film ...</td>\n",
       "      <td>wachowski matrix brother really</td>\n",
       "    </tr>\n",
       "    <tr>\n",
       "      <th>4</th>\n",
       "      <td>0</td>\n",
       "      <td>comment may contain spoiler seen came mixed fe...</td>\n",
       "      <td>scary time suffers bad script</td>\n",
       "    </tr>\n",
       "  </tbody>\n",
       "</table>\n",
       "</div>"
      ],
      "text/plain": [
       "   is_spoiler                                        review_text  \\\n",
       "0           0  seeing movie duty plea e every serious sci fan...   \n",
       "1           0  kept seeing getting compared indiana jones mov...   \n",
       "2           0  dark netflix german tv show talk mysterious di...   \n",
       "3           0  start state clich like movie pretentious film ...   \n",
       "4           0  comment may contain spoiler seen came mixed fe...   \n",
       "\n",
       "                                      review_summary  \n",
       "0                                     destined movie  \n",
       "1  wish matthew mcconaughey would get struck ligh...  \n",
       "2                              incredible incredible  \n",
       "3                    wachowski matrix brother really  \n",
       "4                      scary time suffers bad script  "
      ]
     },
     "execution_count": 3,
     "metadata": {},
     "output_type": "execute_result"
    }
   ],
   "source": [
    "data_df.head()"
   ]
  },
  {
   "cell_type": "code",
   "execution_count": 4,
   "metadata": {},
   "outputs": [
    {
     "name": "stdout",
     "output_type": "stream",
     "text": [
      "<class 'pandas.core.frame.DataFrame'>\n",
      "RangeIndex: 25000 entries, 0 to 24999\n",
      "Data columns (total 3 columns):\n",
      " #   Column          Non-Null Count  Dtype \n",
      "---  ------          --------------  ----- \n",
      " 0   is_spoiler      25000 non-null  int64 \n",
      " 1   review_text     25000 non-null  object\n",
      " 2   review_summary  24922 non-null  object\n",
      "dtypes: int64(1), object(2)\n",
      "memory usage: 586.1+ KB\n"
     ]
    }
   ],
   "source": [
    "data_df.info()"
   ]
  },
  {
   "cell_type": "markdown",
   "metadata": {},
   "source": [
    "# Data Preparation"
   ]
  },
  {
   "cell_type": "code",
   "execution_count": 5,
   "metadata": {},
   "outputs": [],
   "source": [
    "num_of_samples = 500_000\n",
    "data_df2 = data_df.iloc[:num_of_samples]\n",
    "X = data_df2['review_text']\n",
    "y = data_df2['is_spoiler']\n",
    "\n",
    "\n",
    "# split data into train and test\n",
    "X_train, X_test, y_train, y_test = train_test_split(\n",
    "    X,\n",
    "    y,\n",
    "    test_size=0.15,\n",
    "    random_state=42,\n",
    "    shuffle=True,\n",
    "    stratify=y,\n",
    ")"
   ]
  },
  {
   "cell_type": "code",
   "execution_count": 6,
   "metadata": {},
   "outputs": [],
   "source": [
    "# Transform text data \n",
    "vectorizer = CountVectorizer(lowercase=False)\n",
    "vectorizer.fit(X_train)\n",
    "\n",
    "#transform train data \n",
    "X_train_trans = vectorizer.transform(X_train)\n",
    "\n",
    "#transform test data\n",
    "X_test_trans = vectorizer.transform(X_test)"
   ]
  },
  {
   "cell_type": "code",
   "execution_count": 7,
   "metadata": {},
   "outputs": [
    {
     "name": "stderr",
     "output_type": "stream",
     "text": [
      "[Parallel(n_jobs=-1)]: Using backend LokyBackend with 8 concurrent workers.\n",
      "[Parallel(n_jobs=-1)]: Done   3 out of  10 | elapsed:    4.3s remaining:   10.2s\n",
      "[Parallel(n_jobs=-1)]: Done   7 out of  10 | elapsed:    4.5s remaining:    1.9s\n",
      "[Parallel(n_jobs=-1)]: Done  10 out of  10 | elapsed:    4.5s finished\n"
     ]
    }
   ],
   "source": [
    "# train model\n",
    "model = MultinomialNB()\n",
    "\n",
    "# Get cross validated score\n",
    "scores = cross_val_score(model,\n",
    "                         X_train_trans,\n",
    "                         y_train,\n",
    "                         cv=10,\n",
    "                         verbose=3,\n",
    "                         n_jobs=-1,\n",
    "                         scoring='roc_auc')"
   ]
  },
  {
   "cell_type": "code",
   "execution_count": 8,
   "metadata": {},
   "outputs": [
    {
     "data": {
      "text/plain": [
       "0.6447924386724386"
      ]
     },
     "execution_count": 8,
     "metadata": {},
     "output_type": "execute_result"
    }
   ],
   "source": [
    "scores.mean()"
   ]
  },
  {
   "cell_type": "code",
   "execution_count": 9,
   "metadata": {},
   "outputs": [
    {
     "data": {
      "text/plain": [
       "<BarContainer object of 10 artists>"
      ]
     },
     "execution_count": 9,
     "metadata": {},
     "output_type": "execute_result"
    },
    {
     "data": {
      "image/png": "[encoded data removed]",
      "text/plain": [
       "<Figure size 432x288 with 1 Axes>"
      ]
     },
     "metadata": {
      "needs_background": "light"
     },
     "output_type": "display_data"
    }
   ],
   "source": [
    "fig, ax = plt.subplots()\n",
    "\n",
    "ax.bar(x=range(len(scores)), height=scores)"
   ]
  },
  {
   "cell_type": "code",
   "execution_count": 10,
   "metadata": {},
   "outputs": [
    {
     "name": "stdout",
     "output_type": "stream",
     "text": [
      "              precision    recall  f1-score   support\n",
      "\n",
      "           0       0.80      0.88      0.84      2779\n",
      "           1       0.51      0.36      0.42       971\n",
      "\n",
      "    accuracy                           0.75      3750\n",
      "   macro avg       0.65      0.62      0.63      3750\n",
      "weighted avg       0.72      0.75      0.73      3750\n",
      "\n"
     ]
    }
   ],
   "source": [
    "# train the model\n",
    "model.fit(X_train_trans, y_train)\n",
    "\n",
    "# predict on the test data\n",
    "y_pred = model.predict(X_test_trans)\n",
    "\n",
    "# cehck \n",
    "print(classification_report(y_test, y_pred))"
   ]
  },
  {
   "cell_type": "markdown",
   "metadata": {},
   "source": [
    "# Does more data improve the performance of the model?"
   ]
  },
  {
   "cell_type": "code",
   "execution_count": 11,
   "metadata": {},
   "outputs": [],
   "source": [
    "#Define Plot for learning curve\n",
    "\n",
    "def plot_learning_curves(model):\n",
    "    train_sizes, train_scores, test_scores = learning_curve(estimator=model,\n",
    "                                                            X=X_train_trans, \n",
    "                                                            y=y_train,\n",
    "                                                            train_sizes= np.linspace(0.1, 1.0, 10),\n",
    "                                                            cv=10,\n",
    "                                                            scoring='recall',random_state=42)\n",
    "    train_mean = np.mean(train_scores, axis=1)\n",
    "    train_std = np.std(train_scores, axis=1)\n",
    "    test_mean = np.mean(test_scores, axis=1)\n",
    "    test_std = np.std(test_scores, axis=1)\n",
    "    \n",
    "    plt.plot(train_sizes, train_mean,color='blue', marker='o', \n",
    "             markersize=5, label='training recall')\n",
    "    plt.fill_between(train_sizes, train_mean + train_std, train_mean - train_std,\n",
    "                     alpha=0.15, color='blue')\n",
    "\n",
    "    plt.plot(train_sizes, test_mean, color='green', linestyle='--', marker='s', markersize=5,\n",
    "             label='validation recall')\n",
    "    plt.fill_between(train_sizes, test_mean + test_std, test_mean - test_std,\n",
    "                     alpha=0.15, color='green')\n",
    "    plt.grid(True)\n",
    "    plt.xlabel('Number of training samples')\n",
    "    plt.ylabel('Recall')\n",
    "    plt.legend(loc='best')\n",
    "#     plt.ylim([0.6, 1.0])\n",
    "    plt.show()"
   ]
  },
  {
   "cell_type": "code",
   "execution_count": 12,
   "metadata": {},
   "outputs": [
    {
     "data": {
      "image/png": "[encoded data removed]",
      "text/plain": [
       "<Figure size 432x288 with 1 Axes>"
      ]
     },
     "metadata": {
      "needs_background": "light"
     },
     "output_type": "display_data"
    }
   ],
   "source": [
    "plot_learning_curves(model)"
   ]
  },
  {
   "cell_type": "markdown",
   "metadata": {},
   "source": [
    "# Model Comparison"
   ]
  },
  {
   "cell_type": "code",
   "execution_count": 13,
   "metadata": {},
   "outputs": [],
   "source": [
    "from sklearn.svm import SVC\n",
    "\n",
    "# Instanciate model\n",
    "clf_svc = SVC(kernel='linear', probability=True)\n",
    "clf_NB = MultinomialNB()"
   ]
  },
  {
   "cell_type": "code",
   "execution_count": 14,
   "metadata": {},
   "outputs": [],
   "source": [
    "from helper_functions import evaluate_model\n",
    "\n",
    "\n",
    "# Setting seed to ensure reproducability\n",
    "np.random.seed(100)\n",
    "\n",
    "# Transform data\n",
    "X_trans = vectorizer.transform(X)"
   ]
  },
  {
   "cell_type": "code",
   "execution_count": 15,
   "metadata": {},
   "outputs": [
    {
     "name": "stdout",
     "output_type": "stream",
     "text": [
      "Evaluating Multinomial Naive Bayes Model\n"
     ]
    },
    {
     "name": "stderr",
     "output_type": "stream",
     "text": [
      "[Parallel(n_jobs=-1)]: Using backend LokyBackend with 8 concurrent workers.\n",
      "[Parallel(n_jobs=-1)]: Done   2 out of   5 | elapsed:    0.1s remaining:    0.2s\n",
      "[Parallel(n_jobs=-1)]: Done   5 out of   5 | elapsed:    0.1s finished\n",
      "[Parallel(n_jobs=-1)]: Using backend LokyBackend with 8 concurrent workers.\n",
      "[Parallel(n_jobs=-1)]: Done   2 out of   5 | elapsed:    0.2s remaining:    0.3s\n",
      "[Parallel(n_jobs=-1)]: Done   5 out of   5 | elapsed:    0.2s finished\n",
      "[Parallel(n_jobs=-1)]: Using backend LokyBackend with 8 concurrent workers.\n",
      "[Parallel(n_jobs=-1)]: Done   2 out of   5 | elapsed:    0.2s remaining:    0.3s\n",
      "[Parallel(n_jobs=-1)]: Done   5 out of   5 | elapsed:    0.2s finished\n",
      "[Parallel(n_jobs=-1)]: Using backend LokyBackend with 8 concurrent workers.\n",
      "[Parallel(n_jobs=-1)]: Done   2 out of   5 | elapsed:    0.2s remaining:    0.3s\n",
      "[Parallel(n_jobs=-1)]: Done   5 out of   5 | elapsed:    0.2s finished\n",
      "[Parallel(n_jobs=-1)]: Using backend LokyBackend with 8 concurrent workers.\n",
      "[Parallel(n_jobs=-1)]: Done   2 out of   5 | elapsed:    0.2s remaining:    0.3s\n",
      "[Parallel(n_jobs=-1)]: Done   5 out of   5 | elapsed:    0.2s finished\n",
      "[Parallel(n_jobs=-1)]: Using backend LokyBackend with 8 concurrent workers.\n",
      "[Parallel(n_jobs=-1)]: Done   2 out of   5 | elapsed:    0.2s remaining:    0.4s\n",
      "[Parallel(n_jobs=-1)]: Done   5 out of   5 | elapsed:    0.2s finished\n"
     ]
    },
    {
     "name": "stdout",
     "output_type": "stream",
     "text": [
      "Model evaluation complete.\n",
      "Evaluating Support Vector Machine\n"
     ]
    },
    {
     "name": "stderr",
     "output_type": "stream",
     "text": [
      "[Parallel(n_jobs=-1)]: Using backend LokyBackend with 8 concurrent workers.\n",
      "[Parallel(n_jobs=-1)]: Done   2 out of   5 | elapsed:    5.4s remaining:    8.2s\n",
      "[Parallel(n_jobs=-1)]: Done   5 out of   5 | elapsed:    5.6s finished\n",
      "[Parallel(n_jobs=-1)]: Using backend LokyBackend with 8 concurrent workers.\n",
      "[Parallel(n_jobs=-1)]: Done   2 out of   5 | elapsed:    5.7s remaining:    8.6s\n",
      "[Parallel(n_jobs=-1)]: Done   5 out of   5 | elapsed:    5.9s finished\n",
      "[Parallel(n_jobs=-1)]: Using backend LokyBackend with 8 concurrent workers.\n",
      "[Parallel(n_jobs=-1)]: Done   2 out of   5 | elapsed:    5.5s remaining:    8.3s\n",
      "[Parallel(n_jobs=-1)]: Done   5 out of   5 | elapsed:    5.6s finished\n",
      "[Parallel(n_jobs=-1)]: Using backend LokyBackend with 8 concurrent workers.\n",
      "[Parallel(n_jobs=-1)]: Done   2 out of   5 | elapsed:    5.5s remaining:    8.2s\n",
      "[Parallel(n_jobs=-1)]: Done   5 out of   5 | elapsed:    5.6s finished\n",
      "[Parallel(n_jobs=-1)]: Using backend LokyBackend with 8 concurrent workers.\n",
      "[Parallel(n_jobs=-1)]: Done   2 out of   5 | elapsed:    5.8s remaining:    8.8s\n",
      "[Parallel(n_jobs=-1)]: Done   5 out of   5 | elapsed:    5.9s finished\n",
      "[Parallel(n_jobs=-1)]: Using backend LokyBackend with 8 concurrent workers.\n"
     ]
    },
    {
     "name": "stdout",
     "output_type": "stream",
     "text": [
      "Model evaluation complete.\n"
     ]
    },
    {
     "name": "stderr",
     "output_type": "stream",
     "text": [
      "[Parallel(n_jobs=-1)]: Done   2 out of   5 | elapsed:    5.1s remaining:    7.7s\n",
      "[Parallel(n_jobs=-1)]: Done   5 out of   5 | elapsed:    5.2s finished\n"
     ]
    }
   ],
   "source": [
    "# Getting Metric scores on each model\n",
    "print('Evaluating Multinomial Naive Bayes Model')\n",
    "eval_NB = evaluate_model(clf_NB, X_trans, y, False)\n",
    "\n",
    "print('Evaluating Support Vector Machine')\n",
    "eval_svc = evaluate_model(clf_svc, X_trans[:1_000], y[:1_000], False)\n",
    "\n",
    "df = pd.DataFrame({'Linear SVC': eval_svc,\n",
    "                   'Multinomial Naive Bayes': eval_NB})"
   ]
  },
  {
   "cell_type": "markdown",
   "metadata": {},
   "source": [
    "## Plotting the results"
   ]
  },
  {
   "cell_type": "code",
   "execution_count": 16,
   "metadata": {},
   "outputs": [
    {
     "data": {
      "image/png": "[encoded data removed]",
      "text/plain": [
       "<Figure size 720x504 with 1 Axes>"
      ]
     },
     "metadata": {
      "needs_background": "light"
     },
     "output_type": "display_data"
    }
   ],
   "source": [
    "# Instantiating figure\n",
    "fig, ax = plt.subplots(figsize=(10,7))\n",
    "\n",
    "# plotting data\n",
    "df.plot.bar(ax=ax)\n",
    "\n",
    "# Formatting title and axes\n",
    "ax.set_title(\"Metric comparision of the Three Models\", \n",
    "             fontdict={\"fontsize\":20, \"fontweight\":'bold'},\n",
    "             pad=30)\n",
    "\n",
    "ax.set_xlabel(\"Metrics\", fontsize=14, fontweight='bold', labelpad=20)\n",
    "ax.set_ylabel(\"Average Cross Validated Values of Metric\", \n",
    "              fontsize=14, fontweight='bold', labelpad=20)\n",
    "\n",
    "locs, labels = plt.xticks()\n",
    "plt.xticks(locs, ['Accuracy', 'Precision', 'Recall', 'F1', 'Modified Brier Score', 'Area Under ROC curve'], \n",
    "           fontsize=12, rotation=20)\n",
    "plt.yticks(fontsize=12)\n",
    "# ax.set_ylim([0.8, 1])\n",
    "\n",
    "# Formatting legend\n",
    "leg = ax.legend(fontsize=12, loc=(1.02, 0.81), frameon=True)\n",
    "leg.get_frame().set_color(\"#F2F2F2\")\n",
    "leg.get_frame().set_edgecolor(\"#000000\")\n",
    "leg.set_title(\"Estimator\", prop={\"size\": 14, \"weight\": 'bold'})"
   ]
  },
  {
   "cell_type": "markdown",
   "metadata": {},
   "source": [
    "Though the performance of the `Linear SVC model` is lower than the `Multinomial Naive Bayes` in some aspects, however, the Linear SVC model has only been trained on "
   ]
  },
  {
   "cell_type": "markdown",
   "metadata": {},
   "source": [
    "### Experiment for Hyperparameter Tuning for Multinomial NB"
   ]
  },
  {
   "cell_type": "code",
   "execution_count": 18,
   "metadata": {},
   "outputs": [
    {
     "name": "stdout",
     "output_type": "stream",
     "text": [
      "Ridge()\n",
      "CV Mean:  0.6192680435157948\n",
      "STD:  0.00957625013249276\n",
      "\n",
      "\n",
      "Lasso()\n",
      "CV Mean:  0.5\n",
      "STD:  0.0\n",
      "\n",
      "\n",
      "ElasticNet()\n",
      "CV Mean:  0.5\n",
      "STD:  0.0\n",
      "\n",
      "\n",
      "LogisticRegression(solver='liblinear')\n",
      "CV Mean:  0.6555320634920634\n",
      "STD:  0.008482394936555735\n",
      "\n",
      "\n",
      "SGDClassifier()\n",
      "CV Mean:  0.656952352092352\n",
      "STD:  0.010801356950529254\n",
      "\n",
      "\n"
     ]
    }
   ],
   "source": [
    "from sklearn import linear_model\n",
    "from sklearn.model_selection import GridSearchCV, RandomizedSearchCV\n",
    "\n",
    "# define models\n",
    "ridge = linear_model.Ridge()\n",
    "lasso = linear_model.Lasso()\n",
    "elastic = linear_model.ElasticNet()\n",
    "lasso_lars = linear_model.LassoLars()\n",
    "bayesian_ridge = linear_model.BayesianRidge()\n",
    "logistic = linear_model.LogisticRegression(solver='liblinear')\n",
    "sgd = linear_model.SGDClassifier()\n",
    "\n",
    "models = [ridge, lasso, elastic, logistic, sgd]\n",
    "\n",
    "# function to get cross validation scores\n",
    "def get_cv_scores(model):\n",
    "    scores = cross_val_score(model, X_train_trans, y_train, cv=5, scoring='roc_auc')\n",
    "    print('CV Mean: ', np.mean(scores))\n",
    "    print('STD: ', np.std(scores))\n",
    "    print('\\n')\n",
    "    \n",
    "# loop through list of models\n",
    "for model in models:\n",
    "    print(model)\n",
    "    get_cv_scores(model)"
   ]
  },
  {
   "cell_type": "code",
   "execution_count": 19,
   "metadata": {},
   "outputs": [
    {
     "name": "stdout",
     "output_type": "stream",
     "text": [
      "\n",
      "Estimator: NB\n",
      "\n",
      " [[2450  329]\n",
      " [ 625  346]]\n",
      "              precision    recall  f1-score   support\n",
      "\n",
      "           0       0.80      0.88      0.84      2779\n",
      "           1       0.51      0.36      0.42       971\n",
      "\n",
      "    accuracy                           0.75      3750\n",
      "   macro avg       0.65      0.62      0.63      3750\n",
      "weighted avg       0.72      0.75      0.73      3750\n",
      "\n"
     ]
    }
   ],
   "source": [
    "#Original Model - NB\n",
    "from sklearn.metrics import classification_report, confusion_matrix  \n",
    "\n",
    "for name,method in [('NB', MultinomialNB())]: \n",
    "    method.fit(X_train_trans,y_train)\n",
    "    y_pred = method.predict(X_test_trans)\n",
    "    print('\\nEstimator: {}'.format(name)) \n",
    "    print('\\n', confusion_matrix(y_test, y_pred))  \n",
    "    print(classification_report(y_test, y_pred))"
   ]
  },
  {
   "cell_type": "code",
   "execution_count": 29,
   "metadata": {},
   "outputs": [],
   "source": [
    "#Construct some pipelines \n",
    "from sklearn.pipeline import Pipeline\n",
    "from sklearn.preprocessing import StandardScaler\n",
    "from sklearn.model_selection import GridSearchCV\n",
    "\n",
    "# train model\n",
    "model = MultinomialNB()\n",
    "\n",
    "pipe_mnb = Pipeline([('clf', MultinomialNB())])"
   ]
  },
  {
   "cell_type": "code",
   "execution_count": 30,
   "metadata": {},
   "outputs": [],
   "source": [
    "from sklearn.naive_bayes import MultinomialNB\n",
    "alpha = [0.001, 0.01, 0.1, 1, 10, 100, 1000, 10000]\n",
    "#alpha=[1.0]\n",
    "fit_prior=[True]\n",
    "class_prior=[None]"
   ]
  },
  {
   "cell_type": "code",
   "execution_count": 31,
   "metadata": {},
   "outputs": [],
   "source": [
    "#Set grid search params \n",
    "param_gridmnb = dict(alpha=alpha,\n",
    "                  fit_prior=fit_prior,\n",
    "                  class_prior=class_prior)"
   ]
  },
  {
   "cell_type": "code",
   "execution_count": 32,
   "metadata": {},
   "outputs": [],
   "source": [
    "#Optimize Models \n",
    "\n",
    "grid = GridSearchCV(estimator=model, param_grid=param_gridmnb,\n",
    "                       cv=10, verbose=0,scoring='roc_auc',n_jobs=-1)"
   ]
  },
  {
   "cell_type": "code",
   "execution_count": 33,
   "metadata": {},
   "outputs": [],
   "source": [
    "# List of pipelines for ease of iteration \n",
    "grids = [grid] "
   ]
  },
  {
   "cell_type": "code",
   "execution_count": 34,
   "metadata": {},
   "outputs": [],
   "source": [
    "# Dictionary of pipelines and classifier types for ease of reference \n",
    "grid_dict = {0:'mnb'}\n",
    "\n",
    "grid_result = grid.fit(X_train_trans, y_train)"
   ]
  },
  {
   "cell_type": "code",
   "execution_count": 35,
   "metadata": {},
   "outputs": [
    {
     "name": "stdout",
     "output_type": "stream",
     "text": [
      "              precision    recall  f1-score   support\n",
      "\n",
      "           0       0.80      0.88      0.84      2779\n",
      "           1       0.51      0.36      0.42       971\n",
      "\n",
      "    accuracy                           0.75      3750\n",
      "   macro avg       0.65      0.62      0.63      3750\n",
      "weighted avg       0.72      0.75      0.73      3750\n",
      "\n"
     ]
    }
   ],
   "source": [
    "# train the model\n",
    "model.fit(X_train_trans, y_train)\n",
    "\n",
    "# predict on the test data\n",
    "y_pred = model.predict(X_test_trans)\n",
    "\n",
    "# cehck \n",
    "print(classification_report(y_test, y_pred))"
   ]
  },
  {
   "cell_type": "code",
   "execution_count": 36,
   "metadata": {},
   "outputs": [
    {
     "name": "stdout",
     "output_type": "stream",
     "text": [
      "\n",
      "Estimator: mnb\n",
      "\n",
      " [[2450  329]\n",
      " [ 625  346]]\n",
      "              precision    recall  f1-score   support\n",
      "\n",
      "           0       0.80      0.88      0.84      2779\n",
      "           1       0.51      0.36      0.42       971\n",
      "\n",
      "    accuracy                           0.75      3750\n",
      "   macro avg       0.65      0.62      0.63      3750\n",
      "weighted avg       0.72      0.75      0.73      3750\n",
      "\n"
     ]
    }
   ],
   "source": [
    "#Create Confusion Matrix Table and Report\n",
    "\n",
    "for idx, gs in enumerate(grids):\n",
    "    \n",
    "    #Fit grid search\n",
    "    gs.fit(X_train_trans, y_train)\n",
    "    # Predict on test data with best params \n",
    "    y_pred = gs.predict(X_test_trans) \n",
    "    \n",
    "    #Create Dataframe to Compare Models\n",
    "    print('\\nEstimator: {}'.format(grid_dict[idx])) \n",
    "    print('\\n', confusion_matrix(y_test,y_pred))  \n",
    "    print(classification_report(y_test,y_pred))  "
   ]
  },
  {
   "cell_type": "code",
   "execution_count": 37,
   "metadata": {},
   "outputs": [
    {
     "name": "stdout",
     "output_type": "stream",
     "text": [
      "Best Score:  0.6447924386724386\n",
      "Best Params:  {'alpha': 1, 'class_prior': None, 'fit_prior': True}\n"
     ]
    }
   ],
   "source": [
    "print('Best Score: ', grid_result.best_score_)\n",
    "print('Best Params: ', grid_result.best_params_)"
   ]
  },
  {
   "cell_type": "markdown",
   "metadata": {},
   "source": [
    "### Experiment for Hyperparameter Tuning for SVC"
   ]
  },
  {
   "cell_type": "code",
   "execution_count": 38,
   "metadata": {},
   "outputs": [],
   "source": [
    "# train model\n",
    "model = SVC()"
   ]
  },
  {
   "cell_type": "code",
   "execution_count": 39,
   "metadata": {},
   "outputs": [],
   "source": [
    "# Applying Grid Search to find the best model and the best parameters\n",
    "from sklearn.model_selection import GridSearchCV\n",
    "parameters = {'C': [1, 10, 100, 1000], 'kernel': ['rbf', 'linear'], 'gamma': [0.1, 0.2, 0.3, 0.4, 0.5, 0.6, 0.7, 0.8, 0.9]}\n",
    "grid_search = GridSearchCV(estimator = model,\n",
    "                           param_grid = parameters,\n",
    "                           scoring = 'roc_auc',\n",
    "                           cv = 10,\n",
    "                           n_jobs = -1)\n",
    "grid_search = grid_search.fit(X_train_trans[:1000], y_train[:1000])"
   ]
  },
  {
   "cell_type": "code",
   "execution_count": 40,
   "metadata": {},
   "outputs": [],
   "source": [
    "accuracy = grid_search.best_score_"
   ]
  },
  {
   "cell_type": "code",
   "execution_count": 41,
   "metadata": {},
   "outputs": [
    {
     "data": {
      "text/plain": [
       "0.6664220332028551"
      ]
     },
     "execution_count": 41,
     "metadata": {},
     "output_type": "execute_result"
    }
   ],
   "source": [
    "accuracy"
   ]
  },
  {
   "cell_type": "code",
   "execution_count": 42,
   "metadata": {},
   "outputs": [
    {
     "data": {
      "text/plain": [
       "{'C': 10, 'gamma': 0.1, 'kernel': 'rbf'}"
      ]
     },
     "execution_count": 42,
     "metadata": {},
     "output_type": "execute_result"
    }
   ],
   "source": [
    "grid_search.best_params_"
   ]
  },
  {
   "cell_type": "code",
   "execution_count": null,
   "metadata": {},
   "outputs": [],
   "source": [
    "classifier = SVC(kernel = 'rbf', gamma=0.1)\n",
    "classifier.fit(X_train_trans[:1000], y_train[:1000])"
   ]
  },
  {
   "cell_type": "code",
   "execution_count": null,
   "metadata": {},
   "outputs": [],
   "source": [
    "# Predicting the Test set results\n",
    "y_pred = classifier.predict(X_test[:1000])"
   ]
  },
  {
   "cell_type": "code",
   "execution_count": null,
   "metadata": {},
   "outputs": [],
   "source": [
    "# Making the Confusion Matrix\n",
    "from sklearn.metrics import confusion_matrix\n",
    "cm = confusion_matrix(y_test, y_pred)"
   ]
  },
  {
   "cell_type": "code",
   "execution_count": null,
   "metadata": {},
   "outputs": [],
   "source": [
    "from sklearn.metrics import accuracy_score\n",
    "accuracy=accuracy_score(y_test,y_pred)"
   ]
  },
  {
   "cell_type": "code",
   "execution_count": null,
   "metadata": {},
   "outputs": [],
   "source": [
    "accuracy"
   ]
  },
  {
   "cell_type": "markdown",
   "metadata": {},
   "source": [
    "# Save the Best Model"
   ]
  },
  {
   "cell_type": "code",
   "execution_count": null,
   "metadata": {},
   "outputs": [],
   "source": [
    "# save model \n",
    "joblib.dump(df['Multinomial Naive Bayes'], '../models/spoiler-detection-model.pkl')"
   ]
  },
  {
   "cell_type": "code",
   "execution_count": null,
   "metadata": {},
   "outputs": [],
   "source": [
    "# save count vectorizer\n",
    "joblib.dump(vectorizer, '../preprocessing/count-vectorizer.pkl')"
   ]
  },
  {
   "cell_type": "markdown",
   "metadata": {},
   "source": [
    "# Model Deployment with Algorithmia\n",
    "The algorithm is deployed using the [Algorithmia platform](https://algorithmia.com/). The following code runs a test code."
   ]
  },
  {
   "cell_type": "code",
   "execution_count": null,
   "metadata": {},
   "outputs": [],
   "source": [
    "import Algorithmia\n",
    "import json\n",
    "\n",
    "\n",
    "with open('auth.json') as f:\n",
    "    CLIENT_ID = json.load(f)['CLIENT_ID']"
   ]
  },
  {
   "cell_type": "code",
   "execution_count": null,
   "metadata": {},
   "outputs": [],
   "source": [
    "try:\n",
    "    test = \"This text should contain spoiler. Batman  at the end of the movie.\"\n",
    "    client = Algorithmia.client(CLIENT_ID)\n",
    "    algo = client.algo('radroid/spoiler_detection/0.1.0')\n",
    "    algo.set_options(timeout=300) # optional\n",
    "    print(algo.pipe(test).result)\n",
    "except:\n",
    "    print(\"Error occurred.\")"
   ]
  },
  {
   "cell_type": "markdown",
   "metadata": {},
   "source": [
    "## Code for JavaScript\n",
    "The following piece of code can be used in Javascript to get a prediction for the text.\n",
    "\n",
    "**Add the Algorithmia JavaScript client in your HTML:**\n",
    "```\n",
    "<script src=\"https://algorithmia.com/v1/clients/js/algorithmia-0.2.1.js\" type=\"text/javascript\"></script>\n",
    "```\n",
    "\n",
    "**Use**\n",
    "```\n",
    "var input = \"This text should contain a spoiler. Batman dies at the end of the movie.\";\n",
    "Algorithmia.client(\"CLIENT_ID\")\n",
    "  .algo(\"radroid/spoiler_detection/0.1.0?timeout=300\") // timeout is optional\n",
    "  .pipe(input)\n",
    "  .then(function(output) { console.log(output); });\n",
    "```"
   ]
  },
  {
   "cell_type": "markdown",
   "metadata": {},
   "source": [
    "# Section to be completed - AP"
   ]
  },
  {
   "attachments": {
    "image-2.png": {
     "image/png": "[encoded data removed]"
    },
    "image.png": {
     "image/png": "[encoded data removed]"
    }
   },
   "cell_type": "markdown",
   "metadata": {},
   "source": [
    "## Overview\n",
    "\n",
    "> _The model detects spoilers in the textual data provided. It accepts a list/array of strings and returns a list/array of boolean values. The model uses Multinomial Naive Bayes algorithm for text classification._\n",
    "\n",
    "### Applicable Scenarios and Problems\n",
    "\n",
    "\n",
    "> _The model can be used by applications which intend to detect spoiler review comments for movies. It is suitable for classifying if the textual content (array/list of strings) passed is a spoiler or not. For training the model we have used movies dataset from IMDb._\n",
    "\n",
    "## Usage\n",
    "\n",
    "### Input\n",
    "\n",
    "> _The model accepts a list/array of strings as input._\n",
    "\n",
    "| Parameter | Description |\n",
    "| --------- | ----------- |\n",
    "| test     | Array/List of Strings |\n",
    "\n",
    "\n",
    " * Since the text content passed are user review comments, they may have emojis and slang words. \n",
    " * Content from web pages, may have HTML tags.\n",
    " \n",
    "It's better to remove such content before passing to the model to reduce the pre-processing load. \n",
    "\n",
    "### Output\n",
    "\n",
    "_The output is displayed as a list/array of booleans of same size as the input list/array. Each element of the output array indicates if the corresponding element in the input array is a spoiler or not.\n",
    "[1] indicates spoiler\n",
    "[0] indicates not a spoiler_\n",
    "\n",
    "| Parameter | Description |\n",
    "| --------- | ----------- |\n",
    "| result     | Array/List of Boolean values |\n",
    "\n",
    "## Examples\n",
    "\n",
    "_Running the model from command prompt._\n",
    "1. Output 1 is displayed for a spoiler text.\n",
    "> ![image.png](attachment:image.png)\n",
    "\n",
    "2. Ouptut 0 is displayed for a non-spoiler text.\n",
    "> ![image-2.png](attachment:image-2.png)\n",
    "\n",
    "\n"
   ]
  },
  {
   "cell_type": "markdown",
   "metadata": {},
   "source": [
    "# Extras Code Snippets"
   ]
  },
  {
   "cell_type": "code",
   "execution_count": null,
   "metadata": {},
   "outputs": [],
   "source": [
    "test = 'Here’s a conundrum: how do you wrap up a 22-movie saga, follow up the most iconic shock blockbuster ending since The Empire Strikes Back, and provide a satisfying ending for some of the most beloved screen heroes of the last decade? If you’re Avengers: Endgame, you do it with stunning ease – the Marvel Cinematic Universe’s latest offering a powerful, emotion, thrilling and playful three-hour epic, stuffed with fan service and jaw-dropping pay-offs. Empire sat down with the films directors, Anthony and Joe Russo, and its writers, Christopher Markus and Stephen McFeely, for some spoiler-heavy conversations, talking the film’s major revelations, twists, deaths, and more – and they delivered all kinds of fascinating insights into one of the biggest movies of all time.'\n",
    "test"
   ]
  },
  {
   "cell_type": "code",
   "execution_count": null,
   "metadata": {},
   "outputs": [],
   "source": [
    "from nltk.corpus import stopwords\n",
    "from nltk.stem import WordNetLemmatizer \n",
    "import re\n",
    "from string import punctuation \n",
    "\n",
    "stop_words =  stopwords.words('english')\n",
    "\n",
    "def text_cleaning(text, remove_stop_words=True, lemmatize_words=True):\n",
    "    # Clean the text, with the option to remove stop_words and to lemmatize word\n",
    "\n",
    "    # Clean the text\n",
    "    text = re.sub(r\"[^A-Za-z0-9]\", \" \", text)\n",
    "    text = re.sub(r\"\\'s\", \" \", text)\n",
    "    text = re.sub(r\"n't\", \" not \", text)\n",
    "    text = re.sub(r\"I'm\", \"I am\", text)\n",
    "    text = re.sub(r\"ur\", \" your \", text)\n",
    "    text = re.sub(r\" nd \",\" and \",text)\n",
    "    text = re.sub(r\"\\'d\", \" would \", text)\n",
    "    text = re.sub(r\"\\'ll\", \" will \", text)\n",
    "    text = re.sub(r\" tkts \",\" tickets \",text)\n",
    "    text = re.sub(r\" c \",\" can \",text)\n",
    "    text = re.sub(r\" e g \", \" eg \", text)\n",
    "    text =  re.sub(r'http\\S+',' link ', text)\n",
    "    text = re.sub(r'\\b\\d+(?:\\.\\d+)?\\s+', '', text) # remove numbers\n",
    "    text = re.sub(r\" u \",\" you \",text)\n",
    "    text = text.lower()  # set in lowercase \n",
    "        \n",
    "    # Remove punctuation from text\n",
    "    text = ''.join([c for c in text if c not in punctuation])\n",
    "    \n",
    "    # Optionally, remove stop words\n",
    "    if remove_stop_words:\n",
    "        text = text.split()\n",
    "        text = [w for w in text if not w in stop_words]\n",
    "        text = \" \".join(text)\n",
    "    \n",
    "    # Optionally, shorten words to their stems\n",
    "    if lemmatize_words:\n",
    "        text = text.split()\n",
    "        lemmatizer = WordNetLemmatizer() \n",
    "        lemmatized_words = [lemmatizer.lemmatize(word) for word in text]\n",
    "        text = \" \".join(lemmatized_words)\n",
    "    \n",
    "    # Return a list of words\n",
    "    return(text)"
   ]
  },
  {
   "cell_type": "code",
   "execution_count": null,
   "metadata": {},
   "outputs": [],
   "source": [
    "%%timeit\n",
    "clean_message = text_cleaning(\"This text should contain spoiler. Batman dies at the end of the movie.\")\n",
    "\n",
    "test1 = vectorizer.transform([clean_message])\n",
    "\n",
    "prediction = model.predict_proba(test1)\n",
    "prediction"
   ]
  },
  {
   "cell_type": "code",
   "execution_count": null,
   "metadata": {},
   "outputs": [],
   "source": [
    "# Preprocess and Create numpy array from the input\n",
    "message = \"Snape kills Dumbledore in Harry Potter.\"\n",
    "clean_message = text_cleaning(message)\n",
    "\n",
    "#vectorize the message \n",
    "vect_message = vectorizer.transform([clean_message])\n",
    "\n",
    "prediction = model.predict_proba(vect_message)\n",
    "round(prediction[0][1]*100, 1)"
   ]
  },
  {
   "cell_type": "code",
   "execution_count": null,
   "metadata": {},
   "outputs": [],
   "source": []
  }
 ],
 "metadata": {
  "interpreter": {
   "hash": "537b1257e8f3d87214f3bf8d7039d7c6d0483d490c50c1f967a98d26345650d1"
  },
  "kernelspec": {
   "display_name": "Python 3",
   "language": "python",
   "name": "python3"
  },
  "language_info": {
   "codemirror_mode": {
    "name": "ipython",
    "version": 3
   },
   "file_extension": ".py",
   "mimetype": "text/x-python",
   "name": "python",
   "nbconvert_exporter": "python",
   "pygments_lexer": "ipython3",
   "version": "3.8.5"
  }
 },
 "nbformat": 4,
 "nbformat_minor": 5
}
