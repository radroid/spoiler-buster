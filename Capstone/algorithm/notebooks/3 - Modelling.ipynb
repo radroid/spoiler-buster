{
 "cells": [
  {
   "cell_type": "markdown",
   "id": "ec44b425",
   "metadata": {},
   "source": [
    "# 3 - Modelling - IMDb Dataset\n",
    "In this noteboook, we will create, evaluate and improve machine learning models to predict spoilers given a review. \n",
    "\n",
    "**Dataset**: [IMDb Spoilers Dataset](https://www.kaggle.com/rmisra/imdb-spoiler-dataset)."
   ]
  },
  {
   "cell_type": "code",
   "execution_count": 1,
   "id": "3d893f91",
   "metadata": {},
   "outputs": [
    {
     "name": "stderr",
     "output_type": "stream",
     "text": [
      "[nltk_data] Downloading package brown to /Users/raj/nltk_data...\n",
      "[nltk_data]   Package brown is already up-to-date!\n",
      "[nltk_data] Downloading package names to /Users/raj/nltk_data...\n",
      "[nltk_data]   Package names is already up-to-date!\n",
      "[nltk_data] Downloading package wordnet to /Users/raj/nltk_data...\n",
      "[nltk_data]   Package wordnet is already up-to-date!\n",
      "[nltk_data] Downloading package averaged_perceptron_tagger to\n",
      "[nltk_data]     /Users/raj/nltk_data...\n",
      "[nltk_data]   Package averaged_perceptron_tagger is already up-to-\n",
      "[nltk_data]       date!\n",
      "[nltk_data] Downloading package universal_tagset to\n",
      "[nltk_data]     /Users/raj/nltk_data...\n",
      "[nltk_data]   Package universal_tagset is already up-to-date!\n",
      "[nltk_data] Downloading package stopwords to /Users/raj/nltk_data...\n",
      "[nltk_data]   Package stopwords is already up-to-date!\n"
     ]
    }
   ],
   "source": [
    "# import important modules\n",
    "import numpy as np\n",
    "import pandas as pd\n",
    "import matplotlib.pyplot as plt\n",
    "from string import punctuation \n",
    "\n",
    "# sklearn modules\n",
    "from sklearn.model_selection import train_test_split\n",
    "from sklearn.naive_bayes import MultinomialNB\n",
    "from sklearn.svm import SVC\n",
    "from sklearn.metrics import (\n",
    "    accuracy_score,\n",
    "    classification_report,\n",
    "    plot_confusion_matrix,\n",
    "    f1_score,\n",
    "    roc_auc_score,\n",
    ")\n",
    "from sklearn.feature_extraction.text import CountVectorizer\n",
    "from sklearn.model_selection import cross_val_score, RandomizedSearchCV\n",
    "\n",
    "# text preprocessing modules\n",
    "from nltk.tokenize import word_tokenize\n",
    "# from cleantext import clean\n",
    "\n",
    "import nltk\n",
    "from nltk.corpus import stopwords\n",
    "from nltk.stem import WordNetLemmatizer \n",
    "import re #regular expression\n",
    "\n",
    "\n",
    "# from wordcloud import WordCloud, STOPWORDS\n",
    "\n",
    "# # Download dependency\n",
    "# for dependency in (\n",
    "#     \"brown\",\n",
    "#     \"names\",\n",
    "#     \"wordnet\",\n",
    "#     \"averaged_perceptron_tagger\",\n",
    "#     \"universal_tagset\",\n",
    "#     \"stopwords\"\n",
    "# ):\n",
    "#     nltk.download(dependency)\n",
    "\n",
    "#nltk.download('stopwords')\n",
    "\n",
    "import warnings\n",
    "warnings.filterwarnings(\"ignore\")\n",
    "# seeding\n",
    "np.random.seed(123)"
   ]
  },
  {
   "cell_type": "markdown",
   "id": "91ab55b6",
   "metadata": {},
   "source": [
    "# Load Data"
   ]
  },
  {
   "cell_type": "code",
   "execution_count": 2,
   "id": "03b101cb",
   "metadata": {},
   "outputs": [],
   "source": [
    "import pathlib\n",
    "\n",
    "# locate data files\n",
    "data_dir = pathlib.Path('../data/processed_dataset')\n",
    "filename = 'processed_sample.csv'\n",
    "\n",
    "# Read the json files.\n",
    "data_df = pd.read_csv(data_dir / filename)"
   ]
  },
  {
   "cell_type": "code",
   "execution_count": 4,
   "id": "d745807c",
   "metadata": {},
   "outputs": [
    {
     "data": {
      "text/html": [
       "<div>\n",
       "<style scoped>\n",
       "    .dataframe tbody tr th:only-of-type {\n",
       "        vertical-align: middle;\n",
       "    }\n",
       "\n",
       "    .dataframe tbody tr th {\n",
       "        vertical-align: top;\n",
       "    }\n",
       "\n",
       "    .dataframe thead th {\n",
       "        text-align: right;\n",
       "    }\n",
       "</style>\n",
       "<table border=\"1\" class=\"dataframe\">\n",
       "  <thead>\n",
       "    <tr style=\"text-align: right;\">\n",
       "      <th></th>\n",
       "      <th>is_spoiler</th>\n",
       "      <th>review_text</th>\n",
       "      <th>review_summary</th>\n",
       "    </tr>\n",
       "  </thead>\n",
       "  <tbody>\n",
       "    <tr>\n",
       "      <th>0</th>\n",
       "      <td>0</td>\n",
       "      <td>seeing movie duty plea e every serious sci fan...</td>\n",
       "      <td>destined movie</td>\n",
       "    </tr>\n",
       "    <tr>\n",
       "      <th>1</th>\n",
       "      <td>0</td>\n",
       "      <td>kept seeing getting compared indiana jones mov...</td>\n",
       "      <td>wish matthew mcconaughey would get struck ligh...</td>\n",
       "    </tr>\n",
       "    <tr>\n",
       "      <th>2</th>\n",
       "      <td>0</td>\n",
       "      <td>dark netflix german tv show talk mysterious di...</td>\n",
       "      <td>incredible incredible</td>\n",
       "    </tr>\n",
       "    <tr>\n",
       "      <th>3</th>\n",
       "      <td>0</td>\n",
       "      <td>start state clich like movie pretentious film ...</td>\n",
       "      <td>wachowski matrix brother really</td>\n",
       "    </tr>\n",
       "    <tr>\n",
       "      <th>4</th>\n",
       "      <td>0</td>\n",
       "      <td>comment may contain spoiler seen came mixed fe...</td>\n",
       "      <td>scary time suffers bad script</td>\n",
       "    </tr>\n",
       "  </tbody>\n",
       "</table>\n",
       "</div>"
      ],
      "text/plain": [
       "   is_spoiler                                        review_text  \\\n",
       "0           0  seeing movie duty plea e every serious sci fan...   \n",
       "1           0  kept seeing getting compared indiana jones mov...   \n",
       "2           0  dark netflix german tv show talk mysterious di...   \n",
       "3           0  start state clich like movie pretentious film ...   \n",
       "4           0  comment may contain spoiler seen came mixed fe...   \n",
       "\n",
       "                                      review_summary  \n",
       "0                                     destined movie  \n",
       "1  wish matthew mcconaughey would get struck ligh...  \n",
       "2                              incredible incredible  \n",
       "3                    wachowski matrix brother really  \n",
       "4                      scary time suffers bad script  "
      ]
     },
     "execution_count": 4,
     "metadata": {},
     "output_type": "execute_result"
    }
   ],
   "source": [
    "data_df.head()"
   ]
  },
  {
   "cell_type": "markdown",
   "id": "846a1cbd",
   "metadata": {},
   "source": [
    "# Data Preparation"
   ]
  },
  {
   "cell_type": "code",
   "execution_count": 11,
   "id": "abb9648d",
   "metadata": {},
   "outputs": [],
   "source": [
    "X = data_df['review_text']\n",
    "y = data_df['is_spoiler']\n",
    "\n",
    "\n",
    "# split data into train and test\n",
    "X_train, X_test, y_train, y_test = train_test_split(\n",
    "    X,\n",
    "    y,\n",
    "    test_size=0.15,\n",
    "    random_state=42,\n",
    "    shuffle=True,\n",
    "    stratify=y,\n",
    ")"
   ]
  },
  {
   "cell_type": "code",
   "execution_count": 12,
   "id": "5b4ca326",
   "metadata": {},
   "outputs": [],
   "source": [
    "# Transform text data \n",
    "vectorizer = CountVectorizer(lowercase=False)\n",
    "vectorizer.fit(X_train)\n",
    "\n",
    "#transform train data \n",
    "X_train_trans = vectorizer.transform(X_train)\n",
    "\n",
    "#transform test data\n",
    "X_text_trans = vectorizer.transform(X_test)"
   ]
  },
  {
   "cell_type": "code",
   "execution_count": 24,
   "id": "682e6ba6",
   "metadata": {},
   "outputs": [
    {
     "name": "stderr",
     "output_type": "stream",
     "text": [
      "[Parallel(n_jobs=-1)]: Using backend LokyBackend with 8 concurrent workers.\n",
      "[Parallel(n_jobs=-1)]: Done   3 out of  10 | elapsed:    0.2s remaining:    0.5s\n",
      "[Parallel(n_jobs=-1)]: Done   7 out of  10 | elapsed:    0.3s remaining:    0.1s\n",
      "[Parallel(n_jobs=-1)]: Done  10 out of  10 | elapsed:    0.9s finished\n"
     ]
    }
   ],
   "source": [
    "# train model\n",
    "model = MultinomialNB()\n",
    "\n",
    "# Get cross validated score\n",
    "scores = cross_val_score(model,\n",
    "                         X_train_trans,\n",
    "                         y_train,\n",
    "                         cv=10,\n",
    "                         verbose=3,\n",
    "                         n_jobs=-1)"
   ]
  },
  {
   "cell_type": "code",
   "execution_count": 25,
   "id": "3b4d2e6f",
   "metadata": {},
   "outputs": [
    {
     "data": {
      "text/plain": [
       "0.7355764705882353"
      ]
     },
     "execution_count": 25,
     "metadata": {},
     "output_type": "execute_result"
    }
   ],
   "source": [
    "scores.mean()"
   ]
  },
  {
   "cell_type": "code",
   "execution_count": 27,
   "id": "df5d9ecb",
   "metadata": {},
   "outputs": [
    {
     "data": {
      "text/plain": [
       "<BarContainer object of 10 artists>"
      ]
     },
     "execution_count": 27,
     "metadata": {},
     "output_type": "execute_result"
    },
    {
     "data": {
      "image/png": "[encoded data removed]",
      "text/plain": [
       "<Figure size 432x288 with 1 Axes>"
      ]
     },
     "metadata": {
      "needs_background": "light"
     },
     "output_type": "display_data"
    }
   ],
   "source": [
    "fig, ax = plt.subplots()\n",
    "\n",
    "ax.bar(x=range(len(scores)), height=scores)"
   ]
  },
  {
   "cell_type": "code",
   "execution_count": 32,
   "id": "8375ccd9",
   "metadata": {},
   "outputs": [
    {
     "data": {
      "text/plain": [
       "0.7456"
      ]
     },
     "execution_count": 32,
     "metadata": {},
     "output_type": "execute_result"
    }
   ],
   "source": [
    "model.fit(X_train_trans, y_train)\n",
    "\n",
    "# predict on the test data\n",
    "y_pred = model.predict(X_text_trans)\n",
    "\n",
    "# check accuracy score\n",
    "accuracy_score(y_test, y_pred)"
   ]
  },
  {
   "cell_type": "code",
   "execution_count": 35,
   "id": "bbd5fd8a",
   "metadata": {},
   "outputs": [
    {
     "data": {
      "text/plain": [
       "'Here’s a conundrum: how do you wrap up a 22-movie saga, follow up the most iconic shock blockbuster ending since The Empire Strikes Back, and provide a satisfying ending for some of the most beloved screen heroes of the last decade? If you’re Avengers: Endgame, you do it with stunning ease – the Marvel Cinematic Universe’s latest offering a powerful, emotion, thrilling and playful three-hour epic, stuffed with fan service and jaw-dropping pay-offs. Empire sat down with the films directors, Anthony and Joe Russo, and its writers, Christopher Markus and Stephen McFeely, for some spoiler-heavy conversations, talking the film’s major revelations, twists, deaths, and more – and they delivered all kinds of fascinating insights into one of the biggest movies of all time.'"
      ]
     },
     "execution_count": 35,
     "metadata": {},
     "output_type": "execute_result"
    }
   ],
   "source": [
    "test = 'Here’s a conundrum: how do you wrap up a 22-movie saga, follow up the most iconic shock blockbuster ending since The Empire Strikes Back, and provide a satisfying ending for some of the most beloved screen heroes of the last decade? If you’re Avengers: Endgame, you do it with stunning ease – the Marvel Cinematic Universe’s latest offering a powerful, emotion, thrilling and playful three-hour epic, stuffed with fan service and jaw-dropping pay-offs. Empire sat down with the films directors, Anthony and Joe Russo, and its writers, Christopher Markus and Stephen McFeely, for some spoiler-heavy conversations, talking the film’s major revelations, twists, deaths, and more – and they delivered all kinds of fascinating insights into one of the biggest movies of all time.'\n",
    "test"
   ]
  },
  {
   "cell_type": "code",
   "execution_count": 54,
   "id": "b4b10f83",
   "metadata": {},
   "outputs": [
    {
     "data": {
      "text/plain": [
       "array([0])"
      ]
     },
     "execution_count": 54,
     "metadata": {},
     "output_type": "execute_result"
    }
   ],
   "source": [
    "test1 = vectorizer.transform(pd.DataFrame({'review_text': [text_cleaning(test)]}))\n",
    "\n",
    "prediction = model.predict(test1)\n",
    "prediction"
   ]
  },
  {
   "cell_type": "code",
   "execution_count": 55,
   "id": "ed072bbb",
   "metadata": {},
   "outputs": [
    {
     "data": {
      "text/plain": [
       "MultinomialNB()"
      ]
     },
     "execution_count": 55,
     "metadata": {},
     "output_type": "execute_result"
    }
   ],
   "source": [
    "model"
   ]
  },
  {
   "cell_type": "code",
   "execution_count": 16,
   "id": "978546d5",
   "metadata": {},
   "outputs": [],
   "source": [
    "stop_words =  stopwords.words('english')\n",
    "\n",
    "def text_cleaning(text, remove_stop_words=True, lemmatize_words=True):\n",
    "    # Clean the text, with the option to remove stop_words and to lemmatize word\n",
    "\n",
    "    # Clean the text\n",
    "    text = re.sub(r\"[^A-Za-z0-9]\", \" \", text)\n",
    "    text = re.sub(r\"\\'s\", \" \", text)\n",
    "    text = re.sub(r\"n't\", \" not \", text)\n",
    "    text = re.sub(r\"I'm\", \"I am\", text)\n",
    "    text = re.sub(r\"ur\", \" your \", text)\n",
    "    text = re.sub(r\" nd \",\" and \",text)\n",
    "    text = re.sub(r\"\\'d\", \" would \", text)\n",
    "    text = re.sub(r\"\\'ll\", \" will \", text)\n",
    "    text = re.sub(r\" tkts \",\" tickets \",text)\n",
    "    text = re.sub(r\" c \",\" can \",text)\n",
    "    text = re.sub(r\" e g \", \" eg \", text)\n",
    "    text =  re.sub(r'http\\S+',' link ', text)\n",
    "    text = re.sub(r'\\b\\d+(?:\\.\\d+)?\\s+', '', text) # remove numbers\n",
    "    text = re.sub(r\" u \",\" you \",text)\n",
    "    text = text.lower()  # set in lowercase \n",
    "        \n",
    "    # Remove punctuation from text\n",
    "    text = ''.join([c for c in text if c not in punctuation])\n",
    "    \n",
    "    # Optionally, remove stop words\n",
    "    if remove_stop_words:\n",
    "        text = text.split()\n",
    "        text = [w for w in text if not w in stop_words]\n",
    "        text = \" \".join(text)\n",
    "    \n",
    "    # Optionally, shorten words to their stems\n",
    "    if lemmatize_words:\n",
    "        text = text.split()\n",
    "        lemmatizer = WordNetLemmatizer() \n",
    "        lemmatized_words = [lemmatizer.lemmatize(word) for word in text]\n",
    "        text = \" \".join(lemmatized_words)\n",
    "    \n",
    "    # Return a list of words\n",
    "    return(text)"
   ]
  },
  {
   "cell_type": "code",
   "execution_count": null,
   "id": "a4e9b083",
   "metadata": {},
   "outputs": [],
   "source": []
  }
 ],
 "metadata": {
  "interpreter": {
   "hash": "537b1257e8f3d87214f3bf8d7039d7c6d0483d490c50c1f967a98d26345650d1"
  },
  "kernelspec": {
   "display_name": "Python 3 (ipykernel)",
   "language": "python",
   "name": "python3"
  },
  "language_info": {
   "codemirror_mode": {
    "name": "ipython",
    "version": 3
   },
   "file_extension": ".py",
   "mimetype": "text/x-python",
   "name": "python",
   "nbconvert_exporter": "python",
   "pygments_lexer": "ipython3",
   "version": "3.9.7"
  }
 },
 "nbformat": 4,
 "nbformat_minor": 5
}
