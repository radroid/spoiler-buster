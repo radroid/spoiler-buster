{
 "cells": [
  {
   "cell_type": "markdown",
   "id": "ec44b425",
   "metadata": {},
   "source": [
    "# 3 - Modelling - IMDb Dataset\n",
    "In this noteboook, we will create, evaluate and improve two machine learning models to predict whether a review contains a spoiler.\n",
    "1. Multinomial Naive Bayes\n",
    "2. Support Vector Classifiers\n",
    "\n",
    "> Note: As the dataset size is very large, we are using two simple models to evaluate in this notebook.\n",
    "\n",
    "**Dataset**: [IMDb Spoilers Dataset](https://www.kaggle.com/rmisra/imdb-spoiler-dataset)."
   ]
  },
  {
   "cell_type": "code",
   "execution_count": 1,
   "id": "3d893f91",
   "metadata": {},
   "outputs": [],
   "source": [
    "# Import modules\n",
    "import numpy as np\n",
    "import pandas as pd\n",
    "import matplotlib.pyplot as plt\n",
    "import pathlib\n",
    "import joblib \n",
    "\n",
    "from sklearn.model_selection import train_test_split, learning_curve\n",
    "from sklearn.naive_bayes import MultinomialNB\n",
    "from sklearn.svm import SVC\n",
    "from sklearn.metrics import (\n",
    "    accuracy_score,\n",
    "    classification_report,\n",
    "    plot_confusion_matrix,\n",
    "    f1_score,\n",
    "    roc_auc_score,\n",
    ")\n",
    "from sklearn.feature_extraction.text import CountVectorizer\n",
    "from sklearn.model_selection import cross_val_score\n",
    "\n",
    "import warnings\n",
    "warnings.filterwarnings(\"ignore\")\n",
    "\n",
    "# set random seed\n",
    "np.random.seed(42)"
   ]
  },
  {
   "cell_type": "markdown",
   "id": "91ab55b6",
   "metadata": {},
   "source": [
    "# Load Data"
   ]
  },
  {
   "cell_type": "code",
   "execution_count": 2,
   "id": "03b101cb",
   "metadata": {},
   "outputs": [],
   "source": [
    "# locate data files\n",
    "data_dir = pathlib.Path('../../Capstone/algorithm/data/processed_dataset')\n",
    "filename = 'processed_sample.csv'\n",
    "\n",
    "# Read the json files.\n",
    "data_df = pd.read_csv(data_dir / filename)"
   ]
  },
  {
   "cell_type": "code",
   "execution_count": 3,
   "id": "d745807c",
   "metadata": {},
   "outputs": [
    {
     "data": {
      "text/html": [
       "<div>\n",
       "<style scoped>\n",
       "    .dataframe tbody tr th:only-of-type {\n",
       "        vertical-align: middle;\n",
       "    }\n",
       "\n",
       "    .dataframe tbody tr th {\n",
       "        vertical-align: top;\n",
       "    }\n",
       "\n",
       "    .dataframe thead th {\n",
       "        text-align: right;\n",
       "    }\n",
       "</style>\n",
       "<table border=\"1\" class=\"dataframe\">\n",
       "  <thead>\n",
       "    <tr style=\"text-align: right;\">\n",
       "      <th></th>\n",
       "      <th>is_spoiler</th>\n",
       "      <th>review_text</th>\n",
       "      <th>review_summary</th>\n",
       "    </tr>\n",
       "  </thead>\n",
       "  <tbody>\n",
       "    <tr>\n",
       "      <th>0</th>\n",
       "      <td>0</td>\n",
       "      <td>seeing movie duty plea e every serious sci fan...</td>\n",
       "      <td>destined movie</td>\n",
       "    </tr>\n",
       "    <tr>\n",
       "      <th>1</th>\n",
       "      <td>0</td>\n",
       "      <td>kept seeing getting compared indiana jones mov...</td>\n",
       "      <td>wish matthew mcconaughey would get struck ligh...</td>\n",
       "    </tr>\n",
       "    <tr>\n",
       "      <th>2</th>\n",
       "      <td>0</td>\n",
       "      <td>dark netflix german tv show talk mysterious di...</td>\n",
       "      <td>incredible incredible</td>\n",
       "    </tr>\n",
       "    <tr>\n",
       "      <th>3</th>\n",
       "      <td>0</td>\n",
       "      <td>start state clich like movie pretentious film ...</td>\n",
       "      <td>wachowski matrix brother really</td>\n",
       "    </tr>\n",
       "    <tr>\n",
       "      <th>4</th>\n",
       "      <td>0</td>\n",
       "      <td>comment may contain spoiler seen came mixed fe...</td>\n",
       "      <td>scary time suffers bad script</td>\n",
       "    </tr>\n",
       "  </tbody>\n",
       "</table>\n",
       "</div>"
      ],
      "text/plain": [
       "   is_spoiler                                        review_text  \\\n",
       "0           0  seeing movie duty plea e every serious sci fan...   \n",
       "1           0  kept seeing getting compared indiana jones mov...   \n",
       "2           0  dark netflix german tv show talk mysterious di...   \n",
       "3           0  start state clich like movie pretentious film ...   \n",
       "4           0  comment may contain spoiler seen came mixed fe...   \n",
       "\n",
       "                                      review_summary  \n",
       "0                                     destined movie  \n",
       "1  wish matthew mcconaughey would get struck ligh...  \n",
       "2                              incredible incredible  \n",
       "3                    wachowski matrix brother really  \n",
       "4                      scary time suffers bad script  "
      ]
     },
     "execution_count": 3,
     "metadata": {},
     "output_type": "execute_result"
    }
   ],
   "source": [
    "data_df.head()"
   ]
  },
  {
   "cell_type": "code",
   "execution_count": 4,
   "id": "bb011985",
   "metadata": {},
   "outputs": [
    {
     "name": "stdout",
     "output_type": "stream",
     "text": [
      "<class 'pandas.core.frame.DataFrame'>\n",
      "RangeIndex: 500000 entries, 0 to 499999\n",
      "Data columns (total 3 columns):\n",
      " #   Column          Non-Null Count   Dtype \n",
      "---  ------          --------------   ----- \n",
      " 0   is_spoiler      500000 non-null  int64 \n",
      " 1   review_text     500000 non-null  object\n",
      " 2   review_summary  498358 non-null  object\n",
      "dtypes: int64(1), object(2)\n",
      "memory usage: 11.4+ MB\n"
     ]
    }
   ],
   "source": [
    "data_df.info()"
   ]
  },
  {
   "cell_type": "markdown",
   "id": "846a1cbd",
   "metadata": {},
   "source": [
    "# Data Preparation"
   ]
  },
  {
   "cell_type": "code",
   "execution_count": 5,
   "id": "abb9648d",
   "metadata": {},
   "outputs": [],
   "source": [
    "num_of_samples = 500_000\n",
    "data_df2 = data_df.iloc[:num_of_samples]\n",
    "X = data_df2['review_text']\n",
    "y = data_df2['is_spoiler']\n",
    "\n",
    "\n",
    "# split data into train and test\n",
    "X_train, X_test, y_train, y_test = train_test_split(\n",
    "    X,\n",
    "    y,\n",
    "    test_size=0.15,\n",
    "    random_state=42,\n",
    "    shuffle=True,\n",
    "    stratify=y,\n",
    ")"
   ]
  },
  {
   "cell_type": "code",
   "execution_count": 6,
   "id": "5b4ca326",
   "metadata": {},
   "outputs": [],
   "source": [
    "# Transform text data \n",
    "vectorizer = CountVectorizer(lowercase=False)\n",
    "vectorizer.fit(X_train)\n",
    "\n",
    "#transform train data \n",
    "X_train_trans = vectorizer.transform(X_train)\n",
    "\n",
    "#transform test data\n",
    "X_text_trans = vectorizer.transform(X_test)"
   ]
  },
  {
   "cell_type": "code",
   "execution_count": 7,
   "id": "682e6ba6",
   "metadata": {},
   "outputs": [
    {
     "name": "stderr",
     "output_type": "stream",
     "text": [
      "[Parallel(n_jobs=-1)]: Using backend LokyBackend with 8 concurrent workers.\n",
      "[Parallel(n_jobs=-1)]: Done   3 out of  10 | elapsed:    5.4s remaining:   12.7s\n",
      "[Parallel(n_jobs=-1)]: Done   7 out of  10 | elapsed:    5.5s remaining:    2.4s\n",
      "[Parallel(n_jobs=-1)]: Done  10 out of  10 | elapsed:    6.1s finished\n"
     ]
    }
   ],
   "source": [
    "# train model\n",
    "model = MultinomialNB()\n",
    "\n",
    "# Get cross validated score\n",
    "scores = cross_val_score(model,\n",
    "                         X_train_trans,\n",
    "                         y_train,\n",
    "                         cv=10,\n",
    "                         verbose=3,\n",
    "                         n_jobs=-1,\n",
    "                         scoring='roc_auc')"
   ]
  },
  {
   "cell_type": "code",
   "execution_count": 8,
   "id": "3b4d2e6f",
   "metadata": {},
   "outputs": [
    {
     "data": {
      "text/plain": [
       "0.7024821382307326"
      ]
     },
     "execution_count": 8,
     "metadata": {},
     "output_type": "execute_result"
    }
   ],
   "source": [
    "scores.mean()"
   ]
  },
  {
   "cell_type": "code",
   "execution_count": 9,
   "id": "df5d9ecb",
   "metadata": {},
   "outputs": [
    {
     "data": {
      "text/plain": [
       "<BarContainer object of 10 artists>"
      ]
     },
     "execution_count": 9,
     "metadata": {},
     "output_type": "execute_result"
    },
    {
     "data": {
      "image/png": "[encoded data removed]",
      "text/plain": [
       "<Figure size 432x288 with 1 Axes>"
      ]
     },
     "metadata": {
      "needs_background": "light"
     },
     "output_type": "display_data"
    }
   ],
   "source": [
    "fig, ax = plt.subplots()\n",
    "\n",
    "ax.bar(x=range(len(scores)), height=scores)"
   ]
  },
  {
   "cell_type": "code",
   "execution_count": 10,
   "id": "8375ccd9",
   "metadata": {},
   "outputs": [
    {
     "name": "stdout",
     "output_type": "stream",
     "text": [
      "              precision    recall  f1-score   support\n",
      "\n",
      "           0       0.82      0.83      0.83     55316\n",
      "           1       0.51      0.49      0.50     19684\n",
      "\n",
      "    accuracy                           0.74     75000\n",
      "   macro avg       0.66      0.66      0.66     75000\n",
      "weighted avg       0.74      0.74      0.74     75000\n",
      "\n"
     ]
    }
   ],
   "source": [
    "# train the model\n",
    "model.fit(X_train_trans, y_train)\n",
    "\n",
    "# predict on the test data\n",
    "y_pred = model.predict(X_text_trans)\n",
    "\n",
    "# cehck \n",
    "print(classification_report(y_test, y_pred))"
   ]
  },
  {
   "cell_type": "markdown",
   "id": "2d154933",
   "metadata": {},
   "source": [
    "# Does more data improve the performance of the model?"
   ]
  },
  {
   "cell_type": "code",
   "execution_count": 11,
   "id": "b94b35d8",
   "metadata": {},
   "outputs": [],
   "source": [
    "#Define Plot for learning curve\n",
    "\n",
    "def plot_learning_curves(model):\n",
    "    train_sizes, train_scores, test_scores = learning_curve(estimator=model,\n",
    "                                                            X=X_train_trans, \n",
    "                                                            y=y_train,\n",
    "                                                            train_sizes= np.linspace(0.1, 1.0, 10),\n",
    "                                                            cv=10,\n",
    "                                                            scoring='recall',random_state=42)\n",
    "    train_mean = np.mean(train_scores, axis=1)\n",
    "    train_std = np.std(train_scores, axis=1)\n",
    "    test_mean = np.mean(test_scores, axis=1)\n",
    "    test_std = np.std(test_scores, axis=1)\n",
    "    \n",
    "    plt.plot(train_sizes, train_mean,color='blue', marker='o', \n",
    "             markersize=5, label='training recall')\n",
    "    plt.fill_between(train_sizes, train_mean + train_std, train_mean - train_std,\n",
    "                     alpha=0.15, color='blue')\n",
    "\n",
    "    plt.plot(train_sizes, test_mean, color='green', linestyle='--', marker='s', markersize=5,\n",
    "             label='validation recall')\n",
    "    plt.fill_between(train_sizes, test_mean + test_std, test_mean - test_std,\n",
    "                     alpha=0.15, color='green')\n",
    "    plt.grid(True)\n",
    "    plt.xlabel('Number of training samples')\n",
    "    plt.ylabel('Recall')\n",
    "    plt.legend(loc='best')\n",
    "#     plt.ylim([0.6, 1.0])\n",
    "    plt.show()"
   ]
  },
  {
   "cell_type": "code",
   "execution_count": 12,
   "id": "67fe9b45",
   "metadata": {},
   "outputs": [
    {
     "data": {
      "image/png": "[encoded data removed]",
      "text/plain": [
       "<Figure size 432x288 with 1 Axes>"
      ]
     },
     "metadata": {
      "needs_background": "light"
     },
     "output_type": "display_data"
    }
   ],
   "source": [
    "plot_learning_curves(model)"
   ]
  },
  {
   "cell_type": "markdown",
   "id": "c649d47e",
   "metadata": {},
   "source": [
    "# Model Comparison"
   ]
  },
  {
   "cell_type": "code",
   "execution_count": 13,
   "id": "f73f6a99",
   "metadata": {},
   "outputs": [],
   "source": [
    "from sklearn.svm import SVC\n",
    "\n",
    "# Instanciate model\n",
    "clf_svc = SVC(kernel='linear', probability=True)\n",
    "clf_NB = MultinomialNB()"
   ]
  },
  {
   "cell_type": "code",
   "execution_count": 14,
   "id": "13db0118",
   "metadata": {},
   "outputs": [],
   "source": [
    "from helper_functions import evaluate_model\n",
    "\n",
    "\n",
    "# Setting seed to ensure reproducability\n",
    "np.random.seed(100)\n",
    "\n",
    "# Transform data\n",
    "X_trans = vectorizer.transform(X)"
   ]
  },
  {
   "cell_type": "code",
   "execution_count": 15,
   "id": "786566dc",
   "metadata": {},
   "outputs": [
    {
     "name": "stdout",
     "output_type": "stream",
     "text": [
      "Evaluating Multinomial Naive Bayes Model\n"
     ]
    },
    {
     "name": "stderr",
     "output_type": "stream",
     "text": [
      "[Parallel(n_jobs=-1)]: Using backend LokyBackend with 8 concurrent workers.\n",
      "[Parallel(n_jobs=-1)]: Done   2 out of   5 | elapsed:    3.5s remaining:    5.2s\n",
      "[Parallel(n_jobs=-1)]: Done   5 out of   5 | elapsed:    3.5s finished\n",
      "[Parallel(n_jobs=-1)]: Using backend LokyBackend with 8 concurrent workers.\n",
      "[Parallel(n_jobs=-1)]: Done   2 out of   5 | elapsed:    2.3s remaining:    3.5s\n",
      "[Parallel(n_jobs=-1)]: Done   5 out of   5 | elapsed:    2.4s finished\n",
      "[Parallel(n_jobs=-1)]: Using backend LokyBackend with 8 concurrent workers.\n",
      "[Parallel(n_jobs=-1)]: Done   2 out of   5 | elapsed:    2.3s remaining:    3.5s\n",
      "[Parallel(n_jobs=-1)]: Done   5 out of   5 | elapsed:    2.3s finished\n",
      "[Parallel(n_jobs=-1)]: Using backend LokyBackend with 8 concurrent workers.\n",
      "[Parallel(n_jobs=-1)]: Done   2 out of   5 | elapsed:    2.4s remaining:    3.6s\n",
      "[Parallel(n_jobs=-1)]: Done   5 out of   5 | elapsed:    2.4s finished\n",
      "[Parallel(n_jobs=-1)]: Using backend LokyBackend with 8 concurrent workers.\n",
      "[Parallel(n_jobs=-1)]: Done   2 out of   5 | elapsed:    2.3s remaining:    3.4s\n",
      "[Parallel(n_jobs=-1)]: Done   5 out of   5 | elapsed:    2.3s finished\n",
      "[Parallel(n_jobs=-1)]: Using backend LokyBackend with 8 concurrent workers.\n",
      "[Parallel(n_jobs=-1)]: Done   2 out of   5 | elapsed:    2.3s remaining:    3.5s\n",
      "[Parallel(n_jobs=-1)]: Done   5 out of   5 | elapsed:    2.3s finished\n",
      "[Parallel(n_jobs=-1)]: Using backend LokyBackend with 8 concurrent workers.\n"
     ]
    },
    {
     "name": "stdout",
     "output_type": "stream",
     "text": [
      "Model evaluation complete.\n",
      "Evaluating Support Vector Machine\n"
     ]
    },
    {
     "name": "stderr",
     "output_type": "stream",
     "text": [
      "[Parallel(n_jobs=-1)]: Done   2 out of   5 | elapsed:    2.1s remaining:    3.1s\n",
      "[Parallel(n_jobs=-1)]: Done   5 out of   5 | elapsed:    2.1s finished\n",
      "[Parallel(n_jobs=-1)]: Using backend LokyBackend with 8 concurrent workers.\n",
      "[Parallel(n_jobs=-1)]: Done   2 out of   5 | elapsed:    2.1s remaining:    3.1s\n",
      "[Parallel(n_jobs=-1)]: Done   5 out of   5 | elapsed:    2.1s finished\n",
      "[Parallel(n_jobs=-1)]: Using backend LokyBackend with 8 concurrent workers.\n",
      "[Parallel(n_jobs=-1)]: Done   2 out of   5 | elapsed:    2.1s remaining:    3.1s\n",
      "[Parallel(n_jobs=-1)]: Done   5 out of   5 | elapsed:    2.1s finished\n",
      "[Parallel(n_jobs=-1)]: Using backend LokyBackend with 8 concurrent workers.\n",
      "[Parallel(n_jobs=-1)]: Done   2 out of   5 | elapsed:    2.1s remaining:    3.1s\n",
      "[Parallel(n_jobs=-1)]: Done   5 out of   5 | elapsed:    2.1s finished\n",
      "[Parallel(n_jobs=-1)]: Using backend LokyBackend with 8 concurrent workers.\n",
      "[Parallel(n_jobs=-1)]: Done   2 out of   5 | elapsed:    2.1s remaining:    3.1s\n",
      "[Parallel(n_jobs=-1)]: Done   5 out of   5 | elapsed:    2.1s finished\n",
      "[Parallel(n_jobs=-1)]: Using backend LokyBackend with 8 concurrent workers.\n"
     ]
    },
    {
     "name": "stdout",
     "output_type": "stream",
     "text": [
      "Model evaluation complete.\n"
     ]
    },
    {
     "name": "stderr",
     "output_type": "stream",
     "text": [
      "[Parallel(n_jobs=-1)]: Done   2 out of   5 | elapsed:    2.1s remaining:    3.1s\n",
      "[Parallel(n_jobs=-1)]: Done   5 out of   5 | elapsed:    2.1s finished\n"
     ]
    }
   ],
   "source": [
    "# Getting Metric scores on each model\n",
    "print('Evaluating Multinomial Naive Bayes Model')\n",
    "eval_NB = evaluate_model(clf_NB, X_trans, y, False)\n",
    "\n",
    "print('Evaluating Support Vector Machine')\n",
    "eval_svc = evaluate_model(clf_svc, X_trans[:1_000], y[:1_000], False)\n",
    "\n",
    "df = pd.DataFrame({'Linear SVC': eval_svc,\n",
    "                   'Multinomial Naive Bayes': eval_NB})"
   ]
  },
  {
   "cell_type": "markdown",
   "id": "c556b87c",
   "metadata": {},
   "source": [
    "## Plotting the results"
   ]
  },
  {
   "cell_type": "code",
   "execution_count": 16,
   "id": "b69e287d",
   "metadata": {},
   "outputs": [
    {
     "data": {
      "image/png": "[encoded data removed]",
      "text/plain": [
       "<Figure size 720x504 with 1 Axes>"
      ]
     },
     "metadata": {
      "needs_background": "light"
     },
     "output_type": "display_data"
    }
   ],
   "source": [
    "# Instantiating figure\n",
    "fig, ax = plt.subplots(figsize=(10,7))\n",
    "\n",
    "# plotting data\n",
    "df.plot.bar(ax=ax)\n",
    "\n",
    "# Formatting title and axes\n",
    "ax.set_title(\"Metric comparision of the Three Models\", \n",
    "             fontdict={\"fontsize\":20, \"fontweight\":'bold'},\n",
    "             pad=30)\n",
    "\n",
    "ax.set_xlabel(\"Metrics\", fontsize=14, fontweight='bold', labelpad=20)\n",
    "ax.set_ylabel(\"Average Cross Validated Values of Metric\", \n",
    "              fontsize=14, fontweight='bold', labelpad=20)\n",
    "\n",
    "locs, labels = plt.xticks()\n",
    "plt.xticks(locs, ['Accuracy', 'Precision', 'Recall', 'F1', 'Modified Brier Score', 'Area Under ROC curve'], \n",
    "           fontsize=12, rotation=20)\n",
    "plt.yticks(fontsize=12)\n",
    "# ax.set_ylim([0.8, 1])\n",
    "\n",
    "# Formatting legend\n",
    "leg = ax.legend(fontsize=12, loc=(1.02, 0.81), frameon=True)\n",
    "leg.get_frame().set_color(\"#F2F2F2\")\n",
    "leg.get_frame().set_edgecolor(\"#000000\")\n",
    "leg.set_title(\"Estimator\", prop={\"size\": 14, \"weight\": 'bold'})"
   ]
  },
  {
   "cell_type": "markdown",
   "id": "58231aa5",
   "metadata": {},
   "source": [
    "Though the performance of the `Linear SVC model` is lower than the `Multinomial Naive Bayes` in some aspects, however, the Linear SVC model has only been trained on "
   ]
  },
  {
   "cell_type": "markdown",
   "id": "9f8d0a24",
   "metadata": {},
   "source": [
    "# Save the Best Model"
   ]
  },
  {
   "cell_type": "code",
   "execution_count": 17,
   "id": "5d226c6b",
   "metadata": {},
   "outputs": [
    {
     "ename": "FileNotFoundError",
     "evalue": "[Errno 2] No such file or directory: '../models/spoiler-detection-model.pkl'",
     "output_type": "error",
     "traceback": [
      "\u001b[0;31m---------------------------------------------------------------------------\u001b[0m",
      "\u001b[0;31mFileNotFoundError\u001b[0m                         Traceback (most recent call last)",
      "\u001b[0;32m/var/folders/c6/m7hdv33j5lv2j9tmr49vnp700000gn/T/ipykernel_31105/3958779072.py\u001b[0m in \u001b[0;36m<module>\u001b[0;34m\u001b[0m\n\u001b[1;32m      1\u001b[0m \u001b[0;31m# save model\u001b[0m\u001b[0;34m\u001b[0m\u001b[0;34m\u001b[0m\u001b[0m\n\u001b[0;32m----> 2\u001b[0;31m \u001b[0mjoblib\u001b[0m\u001b[0;34m.\u001b[0m\u001b[0mdump\u001b[0m\u001b[0;34m(\u001b[0m\u001b[0mmodel\u001b[0m\u001b[0;34m,\u001b[0m \u001b[0;34m'../models/spoiler-detection-model.pkl'\u001b[0m\u001b[0;34m)\u001b[0m\u001b[0;34m\u001b[0m\u001b[0;34m\u001b[0m\u001b[0m\n\u001b[0m",
      "\u001b[0;32m~/Documents/DurhamCollege/AI/Semester_1/Capstone-AIDI-1003/spoiler-buster/env/lib/python3.9/site-packages/joblib/numpy_pickle.py\u001b[0m in \u001b[0;36mdump\u001b[0;34m(value, filename, compress, protocol, cache_size)\u001b[0m\n\u001b[1;32m    477\u001b[0m             \u001b[0mNumpyPickler\u001b[0m\u001b[0;34m(\u001b[0m\u001b[0mf\u001b[0m\u001b[0;34m,\u001b[0m \u001b[0mprotocol\u001b[0m\u001b[0;34m=\u001b[0m\u001b[0mprotocol\u001b[0m\u001b[0;34m)\u001b[0m\u001b[0;34m.\u001b[0m\u001b[0mdump\u001b[0m\u001b[0;34m(\u001b[0m\u001b[0mvalue\u001b[0m\u001b[0;34m)\u001b[0m\u001b[0;34m\u001b[0m\u001b[0;34m\u001b[0m\u001b[0m\n\u001b[1;32m    478\u001b[0m     \u001b[0;32melif\u001b[0m \u001b[0mis_filename\u001b[0m\u001b[0;34m:\u001b[0m\u001b[0;34m\u001b[0m\u001b[0;34m\u001b[0m\u001b[0m\n\u001b[0;32m--> 479\u001b[0;31m         \u001b[0;32mwith\u001b[0m \u001b[0mopen\u001b[0m\u001b[0;34m(\u001b[0m\u001b[0mfilename\u001b[0m\u001b[0;34m,\u001b[0m \u001b[0;34m'wb'\u001b[0m\u001b[0;34m)\u001b[0m \u001b[0;32mas\u001b[0m \u001b[0mf\u001b[0m\u001b[0;34m:\u001b[0m\u001b[0;34m\u001b[0m\u001b[0;34m\u001b[0m\u001b[0m\n\u001b[0m\u001b[1;32m    480\u001b[0m             \u001b[0mNumpyPickler\u001b[0m\u001b[0;34m(\u001b[0m\u001b[0mf\u001b[0m\u001b[0;34m,\u001b[0m \u001b[0mprotocol\u001b[0m\u001b[0;34m=\u001b[0m\u001b[0mprotocol\u001b[0m\u001b[0;34m)\u001b[0m\u001b[0;34m.\u001b[0m\u001b[0mdump\u001b[0m\u001b[0;34m(\u001b[0m\u001b[0mvalue\u001b[0m\u001b[0;34m)\u001b[0m\u001b[0;34m\u001b[0m\u001b[0;34m\u001b[0m\u001b[0m\n\u001b[1;32m    481\u001b[0m     \u001b[0;32melse\u001b[0m\u001b[0;34m:\u001b[0m\u001b[0;34m\u001b[0m\u001b[0;34m\u001b[0m\u001b[0m\n",
      "\u001b[0;31mFileNotFoundError\u001b[0m: [Errno 2] No such file or directory: '../models/spoiler-detection-model.pkl'"
     ]
    }
   ],
   "source": [
    "# save model \n",
    "joblib.dump(df['Multinomial Naive Bayes'], '../models/spoiler-detection-model.pkl')"
   ]
  },
  {
   "cell_type": "code",
   "execution_count": null,
   "id": "1d69d55f",
   "metadata": {},
   "outputs": [],
   "source": [
    "# save count vectorizer\n",
    "joblib.dump(vectorizer, '../preprocessing/count-vectorizer.pkl')"
   ]
  },
  {
   "cell_type": "markdown",
   "id": "33882107",
   "metadata": {},
   "source": [
    "# Model Deployment with Algorithmia\n",
    "The algorithm is deployed using the [Algorithmia platform](https://algorithmia.com/). The following code runs a test code."
   ]
  },
  {
   "cell_type": "code",
   "execution_count": null,
   "id": "596344d5",
   "metadata": {},
   "outputs": [],
   "source": [
    "import Algorithmia\n",
    "import json\n",
    "\n",
    "\n",
    "with open('auth.json') as f:\n",
    "    CLIENT_ID = json.load(f)['CLIENT_ID']"
   ]
  },
  {
   "cell_type": "code",
   "execution_count": null,
   "id": "d123bcb0",
   "metadata": {},
   "outputs": [],
   "source": [
    "try:\n",
    "    test = \"This text should contain spoiler. Batman  at the end of the movie.\"\n",
    "    client = Algorithmia.client(CLIENT_ID)\n",
    "    algo = client.algo('radroid/spoiler_detection/0.1.0')\n",
    "    algo.set_options(timeout=300) # optional\n",
    "    print(algo.pipe(test).result)\n",
    "except:\n",
    "    print(\"Error occurred.\")"
   ]
  },
  {
   "cell_type": "markdown",
   "id": "32a1735d",
   "metadata": {},
   "source": [
    "## Code for JavaScript\n",
    "The following piece of code can be used in Javascript to get a prediction for the text.\n",
    "\n",
    "**Add the Algorithmia JavaScript client in your HTML:**\n",
    "```\n",
    "<script src=\"https://algorithmia.com/v1/clients/js/algorithmia-0.2.1.js\" type=\"text/javascript\"></script>\n",
    "```\n",
    "\n",
    "**Use**\n",
    "```\n",
    "var input = \"This text should contain a spoiler. Batman dies at the end of the movie.\";\n",
    "Algorithmia.client(\"CLIENT_ID\")\n",
    "  .algo(\"radroid/spoiler_detection/0.1.0?timeout=300\") // timeout is optional\n",
    "  .pipe(input)\n",
    "  .then(function(output) { console.log(output); });\n",
    "```"
   ]
  },
  {
   "cell_type": "markdown",
   "id": "e251b64b",
   "metadata": {},
   "source": [
    "# Extras Code Snippets"
   ]
  },
  {
   "cell_type": "code",
   "execution_count": null,
   "id": "b2d8c9d2",
   "metadata": {},
   "outputs": [],
   "source": [
    "test = 'Here’s a conundrum: how do you wrap up a 22-movie saga, follow up the most iconic shock blockbuster ending since The Empire Strikes Back, and provide a satisfying ending for some of the most beloved screen heroes of the last decade? If you’re Avengers: Endgame, you do it with stunning ease – the Marvel Cinematic Universe’s latest offering a powerful, emotion, thrilling and playful three-hour epic, stuffed with fan service and jaw-dropping pay-offs. Empire sat down with the films directors, Anthony and Joe Russo, and its writers, Christopher Markus and Stephen McFeely, for some spoiler-heavy conversations, talking the film’s major revelations, twists, deaths, and more – and they delivered all kinds of fascinating insights into one of the biggest movies of all time.'\n",
    "test"
   ]
  },
  {
   "cell_type": "code",
   "execution_count": null,
   "id": "6de70ed5",
   "metadata": {},
   "outputs": [],
   "source": [
    "from nltk.corpus import stopwords\n",
    "from nltk.stem import WordNetLemmatizer \n",
    "import re\n",
    "from string import punctuation \n",
    "\n",
    "stop_words =  stopwords.words('english')\n",
    "\n",
    "def text_cleaning(text, remove_stop_words=True, lemmatize_words=True):\n",
    "    # Clean the text, with the option to remove stop_words and to lemmatize word\n",
    "\n",
    "    # Clean the text\n",
    "    text = re.sub(r\"[^A-Za-z0-9]\", \" \", text)\n",
    "    text = re.sub(r\"\\'s\", \" \", text)\n",
    "    text = re.sub(r\"n't\", \" not \", text)\n",
    "    text = re.sub(r\"I'm\", \"I am\", text)\n",
    "    text = re.sub(r\"ur\", \" your \", text)\n",
    "    text = re.sub(r\" nd \",\" and \",text)\n",
    "    text = re.sub(r\"\\'d\", \" would \", text)\n",
    "    text = re.sub(r\"\\'ll\", \" will \", text)\n",
    "    text = re.sub(r\" tkts \",\" tickets \",text)\n",
    "    text = re.sub(r\" c \",\" can \",text)\n",
    "    text = re.sub(r\" e g \", \" eg \", text)\n",
    "    text =  re.sub(r'http\\S+',' link ', text)\n",
    "    text = re.sub(r'\\b\\d+(?:\\.\\d+)?\\s+', '', text) # remove numbers\n",
    "    text = re.sub(r\" u \",\" you \",text)\n",
    "    text = text.lower()  # set in lowercase \n",
    "        \n",
    "    # Remove punctuation from text\n",
    "    text = ''.join([c for c in text if c not in punctuation])\n",
    "    \n",
    "    # Optionally, remove stop words\n",
    "    if remove_stop_words:\n",
    "        text = text.split()\n",
    "        text = [w for w in text if not w in stop_words]\n",
    "        text = \" \".join(text)\n",
    "    \n",
    "    # Optionally, shorten words to their stems\n",
    "    if lemmatize_words:\n",
    "        text = text.split()\n",
    "        lemmatizer = WordNetLemmatizer() \n",
    "        lemmatized_words = [lemmatizer.lemmatize(word) for word in text]\n",
    "        text = \" \".join(lemmatized_words)\n",
    "    \n",
    "    # Return a list of words\n",
    "    return(text)"
   ]
  },
  {
   "cell_type": "code",
   "execution_count": null,
   "id": "25dfb889",
   "metadata": {},
   "outputs": [],
   "source": [
    "%%timeit\n",
    "clean_message = text_cleaning(\"This text should contain spoiler. Batman dies at the end of the movie.\")\n",
    "\n",
    "test1 = vectorizer.transform([clean_message])\n",
    "\n",
    "prediction = model.predict_proba(test1)\n",
    "prediction"
   ]
  },
  {
   "cell_type": "code",
   "execution_count": null,
   "id": "c4a98302",
   "metadata": {},
   "outputs": [
    {
     "name": "stdout",
     "output_type": "stream",
     "text": [
      "[CV] END ................................ score: (test=0.703) total time=   3.8s\n",
      "[CV] END ................................ score: (test=0.738) total time=   3.0s\n",
      "[CV] END ................................ score: (test=0.504) total time=   1.7s\n",
      "[CV] END ................................ score: (test=0.493) total time=   1.8s\n",
      "[CV] END ............................... score: (test=-0.226) total time=   1.7s\n",
      "[CV] END ................................ score: (test=0.320) total time=   2.0s\n",
      "[CV] END ................................ score: (test=0.703) total time=   3.8s\n",
      "[CV] END ................................ score: (test=0.701) total time=   0.5s\n",
      "[CV] END ................................ score: (test=0.494) total time=   1.8s\n",
      "[CV] END ................................ score: (test=0.499) total time=   1.8s\n",
      "[CV] END ............................... score: (test=-0.228) total time=   1.7s\n",
      "[CV] END ................................ score: (test=0.750) total time=   2.1s\n",
      "[CV] END ................................ score: (test=0.474) total time=   2.0s\n",
      "[CV] END ................................ score: (test=0.240) total time=   2.0s\n",
      "[CV] END ................................ score: (test=0.409) total time=   2.1s\n",
      "[CV] END ............................... score: (test=-0.168) total time=   2.1s\n",
      "[CV] END ................................ score: (test=0.708) total time=   3.8s\n",
      "[CV] END ................................ score: (test=0.738) total time=   3.0s\n",
      "[CV] END ................................ score: (test=0.500) total time=   1.8s\n",
      "[CV] END ................................ score: (test=0.495) total time=   1.8s\n",
      "[CV] END ............................... score: (test=-0.228) total time=   1.7s\n",
      "[CV] END ............................... score: (test=-0.171) total time=   2.0s\n",
      "[CV] END ................................ score: (test=0.702) total time=   3.8s\n",
      "[CV] END ................................ score: (test=0.498) total time=   1.8s\n",
      "[CV] END ................................ score: (test=0.703) total time=   1.8s\n",
      "[CV] END ................................ score: (test=0.745) total time=   2.0s\n",
      "[CV] END ................................ score: (test=0.600) total time=   2.1s\n",
      "[CV] END ................................ score: (test=0.360) total time=   2.0s\n",
      "[CV] END ................................ score: (test=0.386) total time=   2.1s\n",
      "[CV] END ............................... score: (test=-0.184) total time=   2.0s\n",
      "[CV] END ................................ score: (test=0.610) total time=   2.0s\n",
      "[CV] END ................................ score: (test=0.701) total time=   3.7s\n",
      "[CV] END ................................ score: (test=0.703) total time=   0.5s\n",
      "[CV] END ................................ score: (test=0.742) total time=   2.9s\n",
      "[CV] END ................................ score: (test=0.503) total time=   1.7s\n",
      "[CV] END ................................ score: (test=0.498) total time=   1.8s\n",
      "[CV] END ............................... score: (test=-0.225) total time=   1.5s\n",
      "[CV] END ................................ score: (test=0.702) total time=   1.8s\n",
      "[CV] END ................................ score: (test=0.740) total time=   2.1s\n",
      "[CV] END ................................ score: (test=0.480) total time=   2.0s\n",
      "[CV] END ................................ score: (test=0.320) total time=   2.1s\n",
      "[CV] END ................................ score: (test=0.450) total time=   2.1s\n",
      "[CV] END ................................ score: (test=0.696) total time=   2.1s\n",
      "[CV] END ................................ score: (test=0.700) total time=   3.9s\n",
      "[CV] END ................................ score: (test=0.502) total time=   1.8s\n",
      "[CV] END ................................ score: (test=0.496) total time=   1.7s\n",
      "[CV] END ................................ score: (test=0.500) total time=   1.8s\n",
      "[CV] END ................................ score: (test=0.702) total time=   1.8s\n",
      "[CV] END ................................ score: (test=0.500) total time=   2.0s\n",
      "[CV] END ................................ score: (test=0.360) total time=   2.1s\n",
      "[CV] END ................................ score: (test=0.320) total time=   2.0s\n",
      "[CV] END ............................... score: (test=-0.177) total time=   2.1s\n",
      "[CV] END ................................ score: (test=0.645) total time=   2.1s\n",
      "[CV] END ................................ score: (test=0.703) total time=   3.8s\n",
      "[CV] END ................................ score: (test=0.739) total time=   2.9s\n",
      "[CV] END ................................ score: (test=0.497) total time=   1.7s\n",
      "[CV] END ............................... score: (test=-0.228) total time=   1.7s\n",
      "[CV] END ................................ score: (test=0.706) total time=   1.6s\n",
      "[CV] END ................................ score: (test=0.745) total time=   2.1s\n",
      "[CV] END ................................ score: (test=0.716) total time=   2.1s\n",
      "[CV] END ................................ score: (test=0.702) total time=   3.8s\n",
      "[CV] END ................................ score: (test=0.740) total time=   2.9s\n",
      "[CV] END ................................ score: (test=0.508) total time=   1.7s\n",
      "[CV] END ................................ score: (test=0.502) total time=   1.7s\n",
      "[CV] END ................................ score: (test=0.702) total time=   1.8s\n",
      "[CV] END ................................ score: (test=0.780) total time=   2.0s\n",
      "[CV] END ................................ score: (test=0.485) total time=   2.1s\n",
      "[CV] END ................................ score: (test=0.390) total time=   2.1s\n",
      "[CV] END ............................... score: (test=-0.161) total time=   2.1s\n",
      "[CV] END ................................ score: (test=0.700) total time=   2.1s\n"
     ]
    }
   ],
   "source": [
    "# Preprocess and Create numpy array from the input\n",
    "message = \"Snape kills Dumbledore in Harry Potter.\"\n",
    "clean_message = text_cleaning(message)\n",
    "\n",
    "#vectorize the message \n",
    "vect_message = vectorizer.transform([clean_message])\n",
    "\n",
    "prediction = model.predict_proba(vect_message)\n",
    "round(prediction[0][1]*100, 1)"
   ]
  },
  {
   "cell_type": "code",
   "execution_count": null,
   "id": "3c4de8ce",
   "metadata": {},
   "outputs": [],
   "source": []
  }
 ],
 "metadata": {
  "interpreter": {
   "hash": "537b1257e8f3d87214f3bf8d7039d7c6d0483d490c50c1f967a98d26345650d1"
  },
  "kernelspec": {
   "display_name": "Python 3 (ipykernel)",
   "language": "python",
   "name": "python3"
  },
  "language_info": {
   "codemirror_mode": {
    "name": "ipython",
    "version": 3
   },
   "file_extension": ".py",
   "mimetype": "text/x-python",
   "name": "python",
   "nbconvert_exporter": "python",
   "pygments_lexer": "ipython3",
   "version": "3.9.7"
  }
 },
 "nbformat": 4,
 "nbformat_minor": 5
}
