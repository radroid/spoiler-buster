{
 "cells": [
  {
   "cell_type": "markdown",
   "id": "ec44b425",
   "metadata": {},
   "source": [
    "# 2 - Data Preparation - IMDb Dataset\n",
    "In this noteboook, we will prepare the [IMDb Spoilers Dataset](https://www.kaggle.com/rmisra/imdb-spoiler-dataset) for modelling.\n",
    "\n",
    "- Google's BERT Model will be used to Natural Language Processing"
   ]
  },
  {
   "cell_type": "code",
   "execution_count": 1,
   "id": "3d893f91",
   "metadata": {},
   "outputs": [
    {
     "name": "stderr",
     "output_type": "stream",
     "text": [
      "[nltk_data] Downloading package brown to /Users/raj/nltk_data...\n",
      "[nltk_data]   Package brown is already up-to-date!\n",
      "[nltk_data] Downloading package names to /Users/raj/nltk_data...\n",
      "[nltk_data]   Package names is already up-to-date!\n",
      "[nltk_data] Downloading package wordnet to /Users/raj/nltk_data...\n",
      "[nltk_data]   Package wordnet is already up-to-date!\n",
      "[nltk_data] Downloading package averaged_perceptron_tagger to\n",
      "[nltk_data]     /Users/raj/nltk_data...\n",
      "[nltk_data]   Package averaged_perceptron_tagger is already up-to-\n",
      "[nltk_data]       date!\n",
      "[nltk_data] Downloading package universal_tagset to\n",
      "[nltk_data]     /Users/raj/nltk_data...\n",
      "[nltk_data]   Package universal_tagset is already up-to-date!\n",
      "[nltk_data] Downloading package stopwords to /Users/raj/nltk_data...\n",
      "[nltk_data]   Package stopwords is already up-to-date!\n"
     ]
    }
   ],
   "source": [
    "# import important modules\n",
    "import numpy as np\n",
    "import pandas as pd\n",
    "import matplotlib.pyplot as plt\n",
    "from string import punctuation \n",
    "\n",
    "# sklearn modules\n",
    "from sklearn.model_selection import train_test_split\n",
    "from sklearn.naive_bayes import MultinomialNB\n",
    "from sklearn.svm import SVC\n",
    "from sklearn.metrics import (\n",
    "    accuracy_score,\n",
    "    classification_report,\n",
    "    plot_confusion_matrix,\n",
    "    f1_score,\n",
    "    roc_auc_score,\n",
    ")\n",
    "from sklearn.feature_extraction.text import CountVectorizer\n",
    "from sklearn.model_selection import cross_val_score, RandomizedSearchCV\n",
    "\n",
    "# text preprocessing modules\n",
    "from nltk.tokenize import word_tokenize\n",
    "# from cleantext import clean\n",
    "\n",
    "import nltk\n",
    "from nltk.corpus import stopwords\n",
    "from nltk.stem import WordNetLemmatizer \n",
    "import re #regular expression\n",
    "\n",
    "\n",
    "# from wordcloud import WordCloud, STOPWORDS\n",
    "\n",
    "# Download dependency\n",
    "for dependency in (\n",
    "    \"brown\",\n",
    "    \"names\",\n",
    "    \"wordnet\",\n",
    "    \"averaged_perceptron_tagger\",\n",
    "    \"universal_tagset\",\n",
    "    \"stopwords\"\n",
    "):\n",
    "    nltk.download(dependency)\n",
    "\n",
    "#nltk.download('stopwords')\n",
    "\n",
    "import warnings\n",
    "warnings.filterwarnings(\"ignore\")\n",
    "# seeding\n",
    "np.random.seed(123)"
   ]
  },
  {
   "cell_type": "markdown",
   "id": "af592d6c",
   "metadata": {},
   "source": [
    "# Load Data"
   ]
  },
  {
   "cell_type": "code",
   "execution_count": 3,
   "id": "03b101cb",
   "metadata": {},
   "outputs": [],
   "source": [
    "import pathlib\n",
    "\n",
    "# locate data files\n",
    "data_dir = pathlib.Path('../../Capstone/algorithm/data/org_dataset')\n",
    "filename = 'imdb_full_dataset.csv'\n",
    "\n",
    "# Read the json files.\n",
    "imdb_df = pd.read_csv(data_dir / filename)"
   ]
  },
  {
   "cell_type": "code",
   "execution_count": 4,
   "id": "d745807c",
   "metadata": {},
   "outputs": [
    {
     "name": "stdout",
     "output_type": "stream",
     "text": [
      "<class 'pandas.core.frame.DataFrame'>\n",
      "RangeIndex: 573913 entries, 0 to 573912\n",
      "Data columns (total 13 columns):\n",
      " #   Column            Non-Null Count   Dtype  \n",
      "---  ------            --------------   -----  \n",
      " 0   review_date       573913 non-null  object \n",
      " 1   movie_id          573913 non-null  object \n",
      " 2   user_id           573913 non-null  object \n",
      " 3   is_spoiler        573913 non-null  bool   \n",
      " 4   review_text       573913 non-null  object \n",
      " 5   review_summary    573911 non-null  object \n",
      " 6   rating_by_user    573913 non-null  int64  \n",
      " 7   plot_summary      573906 non-null  object \n",
      " 8   duration          573906 non-null  object \n",
      " 9   genre             573906 non-null  object \n",
      " 10  release_date      573906 non-null  object \n",
      " 11  plot_synopsis     538828 non-null  object \n",
      " 12  avg_movie_rating  573906 non-null  float64\n",
      "dtypes: bool(1), float64(1), int64(1), object(10)\n",
      "memory usage: 53.1+ MB\n"
     ]
    }
   ],
   "source": [
    "imdb_df.info()"
   ]
  },
  {
   "cell_type": "markdown",
   "id": "4bb42de0",
   "metadata": {},
   "source": [
    "To begin with, we will only consider three (`3`) columns to train our base algorithm: \n",
    "1. `is_spoiler`: target variable (labels)\n",
    "2. `review_text`: features\n",
    "3. `review_summary`: features\n",
    "\n",
    "Could consider: `movie_id`, `plot_summary`, `movie_name`"
   ]
  },
  {
   "cell_type": "code",
   "execution_count": 5,
   "id": "42c59d96",
   "metadata": {},
   "outputs": [
    {
     "data": {
      "text/html": [
       "<div>\n",
       "<style scoped>\n",
       "    .dataframe tbody tr th:only-of-type {\n",
       "        vertical-align: middle;\n",
       "    }\n",
       "\n",
       "    .dataframe tbody tr th {\n",
       "        vertical-align: top;\n",
       "    }\n",
       "\n",
       "    .dataframe thead th {\n",
       "        text-align: right;\n",
       "    }\n",
       "</style>\n",
       "<table border=\"1\" class=\"dataframe\">\n",
       "  <thead>\n",
       "    <tr style=\"text-align: right;\">\n",
       "      <th></th>\n",
       "      <th>is_spoiler</th>\n",
       "      <th>review_text</th>\n",
       "      <th>review_summary</th>\n",
       "    </tr>\n",
       "  </thead>\n",
       "  <tbody>\n",
       "    <tr>\n",
       "      <th>0</th>\n",
       "      <td>True</td>\n",
       "      <td>In its Oscar year, Shawshank Redemption (writt...</td>\n",
       "      <td>A classic piece of unforgettable film-making.</td>\n",
       "    </tr>\n",
       "    <tr>\n",
       "      <th>1</th>\n",
       "      <td>True</td>\n",
       "      <td>The Shawshank Redemption is without a doubt on...</td>\n",
       "      <td>Simply amazing. The best film of the 90's.</td>\n",
       "    </tr>\n",
       "    <tr>\n",
       "      <th>2</th>\n",
       "      <td>True</td>\n",
       "      <td>I believe that this film is the best story eve...</td>\n",
       "      <td>The best story ever told on film</td>\n",
       "    </tr>\n",
       "    <tr>\n",
       "      <th>3</th>\n",
       "      <td>True</td>\n",
       "      <td>**Yes, there are SPOILERS here**This film has ...</td>\n",
       "      <td>Busy dying or busy living?</td>\n",
       "    </tr>\n",
       "    <tr>\n",
       "      <th>4</th>\n",
       "      <td>True</td>\n",
       "      <td>At the heart of this extraordinary movie is a ...</td>\n",
       "      <td>Great story, wondrously told and acted</td>\n",
       "    </tr>\n",
       "  </tbody>\n",
       "</table>\n",
       "</div>"
      ],
      "text/plain": [
       "   is_spoiler                                        review_text  \\\n",
       "0        True  In its Oscar year, Shawshank Redemption (writt...   \n",
       "1        True  The Shawshank Redemption is without a doubt on...   \n",
       "2        True  I believe that this film is the best story eve...   \n",
       "3        True  **Yes, there are SPOILERS here**This film has ...   \n",
       "4        True  At the heart of this extraordinary movie is a ...   \n",
       "\n",
       "                                  review_summary  \n",
       "0  A classic piece of unforgettable film-making.  \n",
       "1     Simply amazing. The best film of the 90's.  \n",
       "2               The best story ever told on film  \n",
       "3                     Busy dying or busy living?  \n",
       "4         Great story, wondrously told and acted  "
      ]
     },
     "execution_count": 5,
     "metadata": {},
     "output_type": "execute_result"
    }
   ],
   "source": [
    "columns = ['is_spoiler', 'review_text', 'review_summary', ]\n",
    "\n",
    "imdb_df2 = imdb_df[columns]\n",
    "\n",
    "imdb_df2.head()"
   ]
  },
  {
   "cell_type": "code",
   "execution_count": 6,
   "id": "5e68e380",
   "metadata": {},
   "outputs": [
    {
     "data": {
      "text/plain": [
       "is_spoiler        0\n",
       "review_text       0\n",
       "review_summary    2\n",
       "dtype: int64"
      ]
     },
     "execution_count": 6,
     "metadata": {},
     "output_type": "execute_result"
    }
   ],
   "source": [
    "# Check missing values\n",
    "imdb_df2.isna().sum()"
   ]
  },
  {
   "cell_type": "markdown",
   "id": "c6025c8e",
   "metadata": {},
   "source": [
    "As there are only two missing values, we can simply remove them."
   ]
  },
  {
   "cell_type": "code",
   "execution_count": 7,
   "id": "e55cfd88",
   "metadata": {},
   "outputs": [
    {
     "name": "stdout",
     "output_type": "stream",
     "text": [
      "<class 'pandas.core.frame.DataFrame'>\n",
      "Int64Index: 573911 entries, 0 to 573912\n",
      "Data columns (total 3 columns):\n",
      " #   Column          Non-Null Count   Dtype \n",
      "---  ------          --------------   ----- \n",
      " 0   is_spoiler      573911 non-null  bool  \n",
      " 1   review_text     573911 non-null  object\n",
      " 2   review_summary  573911 non-null  object\n",
      "dtypes: bool(1), object(2)\n",
      "memory usage: 13.7+ MB\n"
     ]
    }
   ],
   "source": [
    "# Removing missing values\n",
    "imdb_df2.dropna(inplace=True)\n",
    "\n",
    "imdb_df2.info()"
   ]
  },
  {
   "cell_type": "markdown",
   "id": "a148a867",
   "metadata": {},
   "source": [
    "## Step 1: Convert labels from bool to numerical data"
   ]
  },
  {
   "cell_type": "code",
   "execution_count": 8,
   "id": "65f8d270",
   "metadata": {},
   "outputs": [
    {
     "data": {
      "text/plain": [
       "False    422987\n",
       "True     150924\n",
       "Name: is_spoiler, dtype: int64"
      ]
     },
     "execution_count": 8,
     "metadata": {},
     "output_type": "execute_result"
    }
   ],
   "source": [
    "imdb_df2['is_spoiler'].value_counts()"
   ]
  },
  {
   "cell_type": "markdown",
   "id": "7dc7bd3e",
   "metadata": {},
   "source": [
    "To improve the speed of data processing, two datasets are created.\n",
    "1. `full_processed`: contains processed data of all the samples in the dataset.\n",
    "2. `sample_processed`: contains 25,000 random processed reviews."
   ]
  },
  {
   "cell_type": "code",
   "execution_count": 22,
   "id": "a035b45d",
   "metadata": {},
   "outputs": [
    {
     "data": {
      "text/html": [
       "<div>\n",
       "<style scoped>\n",
       "    .dataframe tbody tr th:only-of-type {\n",
       "        vertical-align: middle;\n",
       "    }\n",
       "\n",
       "    .dataframe tbody tr th {\n",
       "        vertical-align: top;\n",
       "    }\n",
       "\n",
       "    .dataframe thead th {\n",
       "        text-align: right;\n",
       "    }\n",
       "</style>\n",
       "<table border=\"1\" class=\"dataframe\">\n",
       "  <thead>\n",
       "    <tr style=\"text-align: right;\">\n",
       "      <th></th>\n",
       "      <th>is_spoiler</th>\n",
       "      <th>review_text</th>\n",
       "      <th>review_summary</th>\n",
       "    </tr>\n",
       "  </thead>\n",
       "  <tbody>\n",
       "    <tr>\n",
       "      <th>287092</th>\n",
       "      <td>False</td>\n",
       "      <td>Seeing this movie is the duty and pleasure of ...</td>\n",
       "      <td>A \"Destined\"Movie</td>\n",
       "    </tr>\n",
       "    <tr>\n",
       "      <th>385947</th>\n",
       "      <td>False</td>\n",
       "      <td>When I kept seeing this getting compared to th...</td>\n",
       "      <td>I wish Matthew McConaughey would get struck by...</td>\n",
       "    </tr>\n",
       "    <tr>\n",
       "      <th>107091</th>\n",
       "      <td>False</td>\n",
       "      <td>Dark is a Netflix German TV show that talks ab...</td>\n",
       "      <td>Incredible Just Incredible</td>\n",
       "    </tr>\n",
       "    <tr>\n",
       "      <th>162711</th>\n",
       "      <td>False</td>\n",
       "      <td>I'll start by state a cliché (like those in th...</td>\n",
       "      <td>Wachowski \"Matrix\" brothers... really?</td>\n",
       "    </tr>\n",
       "    <tr>\n",
       "      <th>543174</th>\n",
       "      <td>False</td>\n",
       "      <td>*** This comment may contain spoilers ***I'd s...</td>\n",
       "      <td>Scary at times, but suffers from a bad script.</td>\n",
       "    </tr>\n",
       "  </tbody>\n",
       "</table>\n",
       "</div>"
      ],
      "text/plain": [
       "        is_spoiler                                        review_text  \\\n",
       "287092       False  Seeing this movie is the duty and pleasure of ...   \n",
       "385947       False  When I kept seeing this getting compared to th...   \n",
       "107091       False  Dark is a Netflix German TV show that talks ab...   \n",
       "162711       False  I'll start by state a cliché (like those in th...   \n",
       "543174       False  *** This comment may contain spoilers ***I'd s...   \n",
       "\n",
       "                                           review_summary  \n",
       "287092                                  A \"Destined\"Movie  \n",
       "385947  I wish Matthew McConaughey would get struck by...  \n",
       "107091                         Incredible Just Incredible  \n",
       "162711             Wachowski \"Matrix\" brothers... really?  \n",
       "543174     Scary at times, but suffers from a bad script.  "
      ]
     },
     "execution_count": 22,
     "metadata": {},
     "output_type": "execute_result"
    }
   ],
   "source": [
    "# creating a sample dataset\n",
    "sample_size = 500_000\n",
    "\n",
    "sample_df = imdb_df2.sample(n=sample_size, random_state=42)\n",
    "sample_df.head()"
   ]
  },
  {
   "cell_type": "code",
   "execution_count": 23,
   "id": "890b0f97",
   "metadata": {},
   "outputs": [],
   "source": [
    "processed_df1 = pd.DataFrame()\n",
    "\n",
    "processed_df1['is_spoiler'] = sample_df['is_spoiler'].replace({True: 1, False: 0})"
   ]
  },
  {
   "cell_type": "markdown",
   "id": "1d7dff87",
   "metadata": {},
   "source": [
    "## Step 2: Clean text (use function)\n",
    "> _**Note**: the code in the below cell is taken from an article published on [freeCodeCamp.com](https://www.freecodecamp.org/news/deploy-ml-model-to-production-as-api/) by [Davis David](https://www.freecodecamp.org/news/author/davis/)_\n",
    "\n",
    "The function removes punctuations, stopwords, and any other characters that can be considered as noise in a text. It then reduces the words into their stem from, example `running` to `run`. It also lowers the case of all characters in the text to maintain consistency.\n",
    "\n",
    "> **Note to self**: Modify the code to keep digits in the text. They might contain information about whether review contains a spoiler or no."
   ]
  },
  {
   "cell_type": "code",
   "execution_count": 24,
   "id": "c7d183ff",
   "metadata": {},
   "outputs": [],
   "source": [
    "stop_words =  stopwords.words('english')\n",
    "\n",
    "def text_cleaning(text, remove_stop_words=True, lemmatize_words=True):\n",
    "    # Clean the text, with the option to remove stop_words and to lemmatize word\n",
    "\n",
    "    # Clean the text\n",
    "    text = re.sub(r\"[^A-Za-z0-9]\", \" \", text)\n",
    "    text = re.sub(r\"\\'s\", \" \", text)\n",
    "    text = re.sub(r\"n't\", \" not \", text)\n",
    "    text = re.sub(r\"I'm\", \"I am\", text)\n",
    "    text = re.sub(r\"ur\", \" your \", text)\n",
    "    text = re.sub(r\" nd \",\" and \",text)\n",
    "    text = re.sub(r\"\\'d\", \" would \", text)\n",
    "    text = re.sub(r\"\\'ll\", \" will \", text)\n",
    "    text = re.sub(r\" tkts \",\" tickets \",text)\n",
    "    text = re.sub(r\" c \",\" can \",text)\n",
    "    text = re.sub(r\" e g \", \" eg \", text)\n",
    "    text =  re.sub(r'http\\S+',' link ', text)\n",
    "    text = re.sub(r'\\b\\d+(?:\\.\\d+)?\\s+', '', text) # remove numbers\n",
    "    text = re.sub(r\" u \",\" you \",text)\n",
    "    text = text.lower()  # set in lowercase \n",
    "        \n",
    "    # Remove punctuation from text\n",
    "    text = ''.join([c for c in text if c not in punctuation])\n",
    "    \n",
    "    # Optionally, remove stop words\n",
    "    if remove_stop_words:\n",
    "        text = text.split()\n",
    "        text = [w for w in text if not w in stop_words]\n",
    "        text = \" \".join(text)\n",
    "    \n",
    "    # Optionally, shorten words to their stems\n",
    "    if lemmatize_words:\n",
    "        text = text.split()\n",
    "        lemmatizer = WordNetLemmatizer() \n",
    "        lemmatized_words = [lemmatizer.lemmatize(word) for word in text]\n",
    "        text = \" \".join(lemmatized_words)\n",
    "    \n",
    "    # Return a list of words\n",
    "    return(text)"
   ]
  },
  {
   "cell_type": "markdown",
   "id": "da65b94f",
   "metadata": {},
   "source": [
    "### Testing the Function\n",
    "---"
   ]
  },
  {
   "cell_type": "code",
   "execution_count": 25,
   "id": "061543a8",
   "metadata": {},
   "outputs": [
    {
     "data": {
      "text/plain": [
       "'oscar year shawshank redemption written directed frank darabont novella rita hayworth shawshank redemption stephen king nominated seven academy award walked away zero best pict e went forrest gump shawshank pulp fiction happy nominated co se hindsight history look back gump good film pulp redemption remembered time best pulp however success word go making huge splash cannes making writer director american master two film andy dufresne co success come easy fortunately fail e life sentence opening screen take 25m film fell fast theatre finished mere 3m reason fail e many firstly title clunker iconic fan today people knew cared shawshank dvd tim robbins laugh recounting fan congratulating rickshaw movie marketing wise film nightmare prison drama tough sell woman story love two best friend spell winner men worst movie slow molasses desson thomson writes washington post wanders subplots every opportunity ignores abundance narrative exit point settling finale weakness make film strong firstly setting opening aerial shot prison total eye opener amazing piece architect e strong gothic design immediately prison becomes character cast shadow film tall stone wall stretching every shot tower men contains blotting memory outside world andy robbins hold onto hope music sandy beach zihuatanejo need say need forget forget place world made stone something inside yo touch red morgan freeman think much andy first picking tall glass milk silver spoon as first new fish crack andy say word losing bet red resents time two get know quickly become best friend one film major strength many movie love many flick side kick hero shawshank one think look honestly love two best friend seems odd hollywood would skip relationship time feeling weighs much everyone day day life perhaps sentimental seem conventional shawshank core friendship hit right note film much better pacing deliberate well spend film watching actor easy forget movie timeline span well year huge meas e time would pas slowly reality would amplified prison film lack interest moment still know going merely intends taking sweet time getting pay well tedium prison life make climax much exhilarating anyone see moment never forgotten theme faith hope definite religious subtext found quiet selfless carefree andy obvious christ fig e warden norton bob gunton obviously modeled richard nixon day close personified satan come looking subtexts movie speaks anyone search hope compelling drama moving film perfectly written acted shot come much better overall score shawshank redemption served message hope hollywood well film memory proved life box office besting forrest fiction ran solely strong word mouth became hottest rented film rently sits imdb top film occasionally swapping spot godfather top ranked film time redemption indeed seen yet hell waiting andy say come simple choice really either get busy living get busy dying'"
      ]
     },
     "execution_count": 25,
     "metadata": {},
     "output_type": "execute_result"
    }
   ],
   "source": [
    "imdb_df['review_text'].iloc[:3].apply(text_cleaning)[0]"
   ]
  },
  {
   "cell_type": "code",
   "execution_count": 26,
   "id": "f3f43217",
   "metadata": {},
   "outputs": [
    {
     "data": {
      "text/plain": [
       "'In its Oscar year, Shawshank Redemption (written and directed by Frank Darabont, after the novella Rita Hayworth and the Shawshank Redemption, by Stephen King) was nominated for seven Academy Awards, and walked away with zero. Best Picture went to Forrest Gump, while Shawshank and Pulp Fiction were \"just happy to be nominated.\" Of course hindsight is 20/20, but while history looks back on Gump as a good film, Pulp and Redemption are remembered as some of the all-time best. Pulp, however, was a success from the word \"go,\" making a huge splash at Cannes and making its writer-director an American master after only two films. For Andy Dufresne and Co., success didn\\'t come easy. Fortunately, failure wasn\\'t a life sentence.After opening on 33 screens with take of $727,327, the $25M film fell fast from theatres and finished with a mere $28.3M. The reasons for failure are many. Firstly, the title is a clunker. While iconic to fans today, in 1994, people knew not and cared not what a \\'Shawshank\\' was. On the DVD, Tim Robbins laughs recounting fans congratulating him on \"that \\'Rickshaw\\' movie.\" Marketing-wise, the film\\'s a nightmare, as \\'prison drama\\' is a tough sell to women, and the story of love between two best friends doesn\\'t spell winner to men. Worst of all, the movie is slow as molasses. As Desson Thomson writes for the Washington Post, \"it wanders down subplots at every opportunity and ignores an abundance of narrative exit points before settling on its finale.\" But it is these same weaknesses that make the film so strong.Firstly, its setting. The opening aerial shots of the prison are a total eye-opener. This is an amazing piece of architecture, strong and Gothic in design. Immediately, the prison becomes a character. It casts its shadow over most of the film, its tall stone walls stretching above every shot. It towers over the men it contains, blotting out all memories of the outside world. Only Andy (Robbins) holds onto hope. It\\'s in music, it\\'s in the sandy beaches of Zihuatanejo; \"In here\\'s where you need it most,\" he says. \"You need it so you don\\'t forget. Forget that there are places in the world that aren\\'t made out of stone. That there\\'s a - there\\'s a - there\\'s something inside that\\'s yours, that they can\\'t touch.\" Red (Morgan Freeman) doesn\\'t think much of Andy at first, picking \"that tall glass o\\' milk with the silver spoon up his ass\" as the first new fish to crack. Andy says not a word, and losing his bet, Red resents him for it. But over time, as the two get to know each other, they quickly become the best of friends. This again, is one of the film\\'s major strengths. Many movies are about love, many flicks have a side-kick to the hero, but Shawshank is the only one I can think of that looks honestly at the love between two best friends. It seems odd that Hollywood would skip this relationship time and again, when it\\'s a feeling that weighs so much into everyone\\'s day to day lives. Perhaps it\\'s too sentimental to seem conventional, but Shawshank\\'s core friendship hits all the right notes, and the film is much better for it.It\\'s pacing is deliberate as well. As we spend the film watching the same actors, it is easy to forget that the movie\\'s timeline spans well over 20 years. Such a huge measure of time would pass slowly in reality, and would only be amplified in prison. And it\\'s not as if the film lacks interest in these moments. It still knows where it\\'s going, it merely intends on taking its sweet time getting there. It pays off as well, as the tedium of prison life makes the climax that much more exhilarating. For anyone who sees it, it is a moment never to be forgotten.With themes of faith and hope, there is a definite religious subtext to be found here. Quiet, selfless and carefree, Andy is an obvious Christ figure. Warden Norton (Bob Gunton) is obviously modeled on Richard Nixon, who, in his day, was as close to a personified Satan as they come. But if you aren\\'t looking for subtexts, the movie speaks to anyone in search of hope. It is a compelling drama, and a very moving film, perfectly written, acted and shot. They just don\\'t come much better than this.OVERALL SCORE: 9.8/10 = A+ The Shawshank Redemption served as a message of hope to Hollywood as well. More than any film in memory, it proved there is life after box office. Besting Forrest and Fiction, it ran solely on strong word of mouth and became the hottest rented film of 1995. It currently sits at #2 in the IMDb\\'s Top 250 Films, occasionally swapping spots with The Godfather as the top ranked film of all time -- redemption indeed. If you haven\\'t seen it yet, what the hell are you waiting for? As Andy says, \"It comes down a simple choice, really. Either get busy living, or get busy dying.\"'"
      ]
     },
     "execution_count": 26,
     "metadata": {},
     "output_type": "execute_result"
    }
   ],
   "source": [
    "imdb_df['review_text'].iloc[0]"
   ]
  },
  {
   "cell_type": "code",
   "execution_count": 27,
   "id": "49402bb1",
   "metadata": {},
   "outputs": [],
   "source": [
    "# Applying function to sample dataset\n",
    "processed_df1['review_text'] = sample_df['review_text'].apply(text_cleaning)"
   ]
  },
  {
   "cell_type": "code",
   "execution_count": 28,
   "id": "b784ebc7",
   "metadata": {},
   "outputs": [],
   "source": [
    "processed_df1['review_summary'] = sample_df['review_summary'].apply(text_cleaning)"
   ]
  },
  {
   "cell_type": "code",
   "execution_count": 29,
   "id": "af6cf4a9",
   "metadata": {},
   "outputs": [
    {
     "data": {
      "text/html": [
       "<div>\n",
       "<style scoped>\n",
       "    .dataframe tbody tr th:only-of-type {\n",
       "        vertical-align: middle;\n",
       "    }\n",
       "\n",
       "    .dataframe tbody tr th {\n",
       "        vertical-align: top;\n",
       "    }\n",
       "\n",
       "    .dataframe thead th {\n",
       "        text-align: right;\n",
       "    }\n",
       "</style>\n",
       "<table border=\"1\" class=\"dataframe\">\n",
       "  <thead>\n",
       "    <tr style=\"text-align: right;\">\n",
       "      <th></th>\n",
       "      <th>is_spoiler</th>\n",
       "      <th>review_text</th>\n",
       "      <th>review_summary</th>\n",
       "    </tr>\n",
       "  </thead>\n",
       "  <tbody>\n",
       "    <tr>\n",
       "      <th>287092</th>\n",
       "      <td>0</td>\n",
       "      <td>seeing movie duty plea e every serious sci fan...</td>\n",
       "      <td>destined movie</td>\n",
       "    </tr>\n",
       "    <tr>\n",
       "      <th>385947</th>\n",
       "      <td>0</td>\n",
       "      <td>kept seeing getting compared indiana jones mov...</td>\n",
       "      <td>wish matthew mcconaughey would get struck ligh...</td>\n",
       "    </tr>\n",
       "    <tr>\n",
       "      <th>107091</th>\n",
       "      <td>0</td>\n",
       "      <td>dark netflix german tv show talk mysterious di...</td>\n",
       "      <td>incredible incredible</td>\n",
       "    </tr>\n",
       "    <tr>\n",
       "      <th>162711</th>\n",
       "      <td>0</td>\n",
       "      <td>start state clich like movie pretentious film ...</td>\n",
       "      <td>wachowski matrix brother really</td>\n",
       "    </tr>\n",
       "    <tr>\n",
       "      <th>543174</th>\n",
       "      <td>0</td>\n",
       "      <td>comment may contain spoiler seen came mixed fe...</td>\n",
       "      <td>scary time suffers bad script</td>\n",
       "    </tr>\n",
       "  </tbody>\n",
       "</table>\n",
       "</div>"
      ],
      "text/plain": [
       "        is_spoiler                                        review_text  \\\n",
       "287092           0  seeing movie duty plea e every serious sci fan...   \n",
       "385947           0  kept seeing getting compared indiana jones mov...   \n",
       "107091           0  dark netflix german tv show talk mysterious di...   \n",
       "162711           0  start state clich like movie pretentious film ...   \n",
       "543174           0  comment may contain spoiler seen came mixed fe...   \n",
       "\n",
       "                                           review_summary  \n",
       "287092                                     destined movie  \n",
       "385947  wish matthew mcconaughey would get struck ligh...  \n",
       "107091                              incredible incredible  \n",
       "162711                    wachowski matrix brother really  \n",
       "543174                      scary time suffers bad script  "
      ]
     },
     "execution_count": 29,
     "metadata": {},
     "output_type": "execute_result"
    }
   ],
   "source": [
    "processed_df1.head()"
   ]
  },
  {
   "cell_type": "markdown",
   "id": "0b61d2b4",
   "metadata": {},
   "source": [
    "# Save sample dataset"
   ]
  },
  {
   "cell_type": "code",
   "execution_count": 30,
   "id": "d6b57ebf",
   "metadata": {},
   "outputs": [
    {
     "name": "stdout",
     "output_type": "stream",
     "text": [
      "File saved to ../../Capstone/algorithm/data/processed_dataset/processed_sample.csv\n"
     ]
    }
   ],
   "source": [
    "data_dir = pathlib.Path('../../Capstone/algorithm/data/processed_dataset')\n",
    "filename = 'processed_sample.csv'\n",
    "path = data_dir / filename\n",
    "\n",
    "processed_df1.to_csv(path, index=False)\n",
    "\n",
    "\n",
    "if path.exists():\n",
    "    print(f'File saved to {path}')\n",
    "else:\n",
    "    print('File not saved.')"
   ]
  },
  {
   "cell_type": "code",
   "execution_count": null,
   "id": "660ccfb9",
   "metadata": {},
   "outputs": [],
   "source": [
    "    "
   ]
  }
 ],
 "metadata": {
  "interpreter": {
   "hash": "537b1257e8f3d87214f3bf8d7039d7c6d0483d490c50c1f967a98d26345650d1"
  },
  "kernelspec": {
   "display_name": "Python 3 (ipykernel)",
   "language": "python",
   "name": "python3"
  },
  "language_info": {
   "codemirror_mode": {
    "name": "ipython",
    "version": 3
   },
   "file_extension": ".py",
   "mimetype": "text/x-python",
   "name": "python",
   "nbconvert_exporter": "python",
   "pygments_lexer": "ipython3",
   "version": "3.9.7"
  }
 },
 "nbformat": 4,
 "nbformat_minor": 5
}
