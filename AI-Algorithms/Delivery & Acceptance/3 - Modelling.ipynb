{
 "cells": [
  {
   "cell_type": "markdown",
   "id": "ec44b425",
   "metadata": {},
   "source": [
    "# 3 - Modelling - IMDb Dataset\n",
    "In this noteboook, we will create, evaluate and improve machine learning models to predict spoilers given a review. \n",
    "\n",
    "**Dataset**: [IMDb Spoilers Dataset](https://www.kaggle.com/rmisra/imdb-spoiler-dataset)."
   ]
  },
  {
   "cell_type": "code",
   "execution_count": 15,
   "id": "3d893f91",
   "metadata": {},
   "outputs": [],
   "source": [
    "# Import modules\n",
    "import numpy as np\n",
    "import pandas as pd\n",
    "import matplotlib.pyplot as plt\n",
    "import pathlib\n",
    "import joblib \n",
    "\n",
    "from sklearn.model_selection import train_test_split\n",
    "from sklearn.naive_bayes import MultinomialNB\n",
    "from sklearn.svm import SVC\n",
    "from sklearn.metrics import (\n",
    "    accuracy_score,\n",
    "    classification_report,\n",
    "    plot_confusion_matrix,\n",
    "    f1_score,\n",
    "    roc_auc_score,\n",
    ")\n",
    "from sklearn.feature_extraction.text import CountVectorizer\n",
    "from sklearn.model_selection import cross_val_score\n",
    "\n",
    "import warnings\n",
    "warnings.filterwarnings(\"ignore\")\n",
    "\n",
    "# set random seed\n",
    "np.random.seed(42)"
   ]
  },
  {
   "cell_type": "markdown",
   "id": "91ab55b6",
   "metadata": {},
   "source": [
    "# Load Data"
   ]
  },
  {
   "cell_type": "code",
   "execution_count": 2,
   "id": "03b101cb",
   "metadata": {},
   "outputs": [],
   "source": [
    "# locate data files\n",
    "data_dir = pathlib.Path('../data/processed_dataset')\n",
    "filename = 'processed_sample.csv'\n",
    "\n",
    "# Read the json files.\n",
    "data_df = pd.read_csv(data_dir / filename)"
   ]
  },
  {
   "cell_type": "code",
   "execution_count": 3,
   "id": "d745807c",
   "metadata": {},
   "outputs": [
    {
     "data": {
      "text/html": [
       "<div>\n",
       "<style scoped>\n",
       "    .dataframe tbody tr th:only-of-type {\n",
       "        vertical-align: middle;\n",
       "    }\n",
       "\n",
       "    .dataframe tbody tr th {\n",
       "        vertical-align: top;\n",
       "    }\n",
       "\n",
       "    .dataframe thead th {\n",
       "        text-align: right;\n",
       "    }\n",
       "</style>\n",
       "<table border=\"1\" class=\"dataframe\">\n",
       "  <thead>\n",
       "    <tr style=\"text-align: right;\">\n",
       "      <th></th>\n",
       "      <th>is_spoiler</th>\n",
       "      <th>review_text</th>\n",
       "      <th>review_summary</th>\n",
       "    </tr>\n",
       "  </thead>\n",
       "  <tbody>\n",
       "    <tr>\n",
       "      <th>0</th>\n",
       "      <td>0</td>\n",
       "      <td>seeing movie duty plea e every serious sci fan...</td>\n",
       "      <td>destined movie</td>\n",
       "    </tr>\n",
       "    <tr>\n",
       "      <th>1</th>\n",
       "      <td>0</td>\n",
       "      <td>kept seeing getting compared indiana jones mov...</td>\n",
       "      <td>wish matthew mcconaughey would get struck ligh...</td>\n",
       "    </tr>\n",
       "    <tr>\n",
       "      <th>2</th>\n",
       "      <td>0</td>\n",
       "      <td>dark netflix german tv show talk mysterious di...</td>\n",
       "      <td>incredible incredible</td>\n",
       "    </tr>\n",
       "    <tr>\n",
       "      <th>3</th>\n",
       "      <td>0</td>\n",
       "      <td>start state clich like movie pretentious film ...</td>\n",
       "      <td>wachowski matrix brother really</td>\n",
       "    </tr>\n",
       "    <tr>\n",
       "      <th>4</th>\n",
       "      <td>0</td>\n",
       "      <td>comment may contain spoiler seen came mixed fe...</td>\n",
       "      <td>scary time suffers bad script</td>\n",
       "    </tr>\n",
       "  </tbody>\n",
       "</table>\n",
       "</div>"
      ],
      "text/plain": [
       "   is_spoiler                                        review_text  \\\n",
       "0           0  seeing movie duty plea e every serious sci fan...   \n",
       "1           0  kept seeing getting compared indiana jones mov...   \n",
       "2           0  dark netflix german tv show talk mysterious di...   \n",
       "3           0  start state clich like movie pretentious film ...   \n",
       "4           0  comment may contain spoiler seen came mixed fe...   \n",
       "\n",
       "                                      review_summary  \n",
       "0                                     destined movie  \n",
       "1  wish matthew mcconaughey would get struck ligh...  \n",
       "2                              incredible incredible  \n",
       "3                    wachowski matrix brother really  \n",
       "4                      scary time suffers bad script  "
      ]
     },
     "execution_count": 3,
     "metadata": {},
     "output_type": "execute_result"
    }
   ],
   "source": [
    "data_df.head()"
   ]
  },
  {
   "cell_type": "markdown",
   "id": "846a1cbd",
   "metadata": {},
   "source": [
    "# Data Preparation"
   ]
  },
  {
   "cell_type": "code",
   "execution_count": 4,
   "id": "abb9648d",
   "metadata": {},
   "outputs": [],
   "source": [
    "X = data_df['review_text']\n",
    "y = data_df['is_spoiler']\n",
    "\n",
    "\n",
    "# split data into train and test\n",
    "X_train, X_test, y_train, y_test = train_test_split(\n",
    "    X,\n",
    "    y,\n",
    "    test_size=0.15,\n",
    "    random_state=42,\n",
    "    shuffle=True,\n",
    "    stratify=y,\n",
    ")"
   ]
  },
  {
   "cell_type": "code",
   "execution_count": 5,
   "id": "5b4ca326",
   "metadata": {},
   "outputs": [],
   "source": [
    "# Transform text data \n",
    "vectorizer = CountVectorizer(lowercase=False)\n",
    "vectorizer.fit(X_train)\n",
    "\n",
    "#transform train data \n",
    "X_train_trans = vectorizer.transform(X_train)\n",
    "\n",
    "#transform test data\n",
    "X_text_trans = vectorizer.transform(X_test)"
   ]
  },
  {
   "cell_type": "code",
   "execution_count": 6,
   "id": "682e6ba6",
   "metadata": {},
   "outputs": [
    {
     "name": "stderr",
     "output_type": "stream",
     "text": [
      "[Parallel(n_jobs=-1)]: Using backend LokyBackend with 8 concurrent workers.\n",
      "[Parallel(n_jobs=-1)]: Done   3 out of  10 | elapsed:    1.4s remaining:    3.3s\n",
      "[Parallel(n_jobs=-1)]: Done   7 out of  10 | elapsed:    1.5s remaining:    0.6s\n",
      "[Parallel(n_jobs=-1)]: Done  10 out of  10 | elapsed:    1.6s finished\n"
     ]
    }
   ],
   "source": [
    "# train model\n",
    "model = MultinomialNB()\n",
    "\n",
    "# Get cross validated score\n",
    "scores = cross_val_score(model,\n",
    "                         X_train_trans,\n",
    "                         y_train,\n",
    "                         cv=10,\n",
    "                         verbose=3,\n",
    "                         n_jobs=-1,\n",
    "                         scoring='roc_auc')"
   ]
  },
  {
   "cell_type": "code",
   "execution_count": 7,
   "id": "3b4d2e6f",
   "metadata": {},
   "outputs": [
    {
     "data": {
      "text/plain": [
       "0.6447924386724386"
      ]
     },
     "execution_count": 7,
     "metadata": {},
     "output_type": "execute_result"
    }
   ],
   "source": [
    "scores.mean()"
   ]
  },
  {
   "cell_type": "code",
   "execution_count": 8,
   "id": "df5d9ecb",
   "metadata": {},
   "outputs": [
    {
     "data": {
      "text/plain": [
       "<BarContainer object of 10 artists>"
      ]
     },
     "execution_count": 8,
     "metadata": {},
     "output_type": "execute_result"
    },
    {
     "data": {
      "image/png": "[encoded data removed]",
      "text/plain": [
       "<Figure size 432x288 with 1 Axes>"
      ]
     },
     "metadata": {
      "needs_background": "light"
     },
     "output_type": "display_data"
    }
   ],
   "source": [
    "fig, ax = plt.subplots()\n",
    "\n",
    "ax.bar(x=range(len(scores)), height=scores)"
   ]
  },
  {
   "cell_type": "code",
   "execution_count": 9,
   "id": "8375ccd9",
   "metadata": {},
   "outputs": [
    {
     "name": "stdout",
     "output_type": "stream",
     "text": [
      "              precision    recall  f1-score   support\n",
      "\n",
      "           0       0.80      0.88      0.84      2779\n",
      "           1       0.51      0.36      0.42       971\n",
      "\n",
      "    accuracy                           0.75      3750\n",
      "   macro avg       0.65      0.62      0.63      3750\n",
      "weighted avg       0.72      0.75      0.73      3750\n",
      "\n"
     ]
    }
   ],
   "source": [
    "# train the model\n",
    "model.fit(X_train_trans, y_train)\n",
    "\n",
    "# predict on the test data\n",
    "y_pred = model.predict(X_text_trans)\n",
    "\n",
    "# cehck \n",
    "print(classification_report(y_test, y_pred))"
   ]
  },
  {
   "cell_type": "markdown",
   "id": "9f8d0a24",
   "metadata": {},
   "source": [
    "# Save the Model"
   ]
  },
  {
   "cell_type": "code",
   "execution_count": 17,
   "id": "5d226c6b",
   "metadata": {},
   "outputs": [
    {
     "data": {
      "text/plain": [
       "['../models/spoiler-detection-model.pkl']"
      ]
     },
     "execution_count": 17,
     "metadata": {},
     "output_type": "execute_result"
    }
   ],
   "source": [
    "# save model \n",
    "joblib.dump(model, '../models/spoiler-detection-model.pkl')"
   ]
  },
  {
   "cell_type": "code",
   "execution_count": 18,
   "id": "1d69d55f",
   "metadata": {},
   "outputs": [
    {
     "data": {
      "text/plain": [
       "['../preprocessing/count-vectorizer.pkl']"
      ]
     },
     "execution_count": 18,
     "metadata": {},
     "output_type": "execute_result"
    }
   ],
   "source": [
    "# save count vectorizer\n",
    "joblib.dump(vectorizer, '../preprocessing/count-vectorizer.pkl')"
   ]
  },
  {
   "cell_type": "markdown",
   "id": "33882107",
   "metadata": {},
   "source": [
    "# Model Deployment with Algorithmia\n",
    "The algorithm is deployed using the [Algorithmia platform](https://algorithmia.com/). The following code runs a test code."
   ]
  },
  {
   "cell_type": "code",
   "execution_count": 42,
   "id": "596344d5",
   "metadata": {},
   "outputs": [],
   "source": [
    "import Algorithmia\n",
    "import json\n",
    "\n",
    "\n",
    "with open('auth.json') as f:\n",
    "    CLIENT_ID = json.load(f)['CLIENT_ID']"
   ]
  },
  {
   "cell_type": "code",
   "execution_count": 90,
   "id": "d123bcb0",
   "metadata": {},
   "outputs": [
    {
     "name": "stdout",
     "output_type": "stream",
     "text": [
      "contains spoiler\n"
     ]
    }
   ],
   "source": [
    "try:\n",
    "    test = \"This text should contain spoiler. Batman  at the end of the movie.\"\n",
    "    client = Algorithmia.client(CLIENT_ID)\n",
    "    algo = client.algo('radroid/spoiler_detection/0.1.0')\n",
    "    algo.set_options(timeout=300) # optional\n",
    "    print(algo.pipe(test).result)\n",
    "except:\n",
    "    print(\"Error occurred.\")"
   ]
  },
  {
   "cell_type": "markdown",
   "id": "32a1735d",
   "metadata": {},
   "source": [
    "## Code for JavaScript\n",
    "The following piece of code can be used in Javascript to get a prediction for the text.\n",
    "\n",
    "**Add the Algorithmia JavaScript client in your HTML:**\n",
    "```\n",
    "<script src=\"https://algorithmia.com/v1/clients/js/algorithmia-0.2.1.js\" type=\"text/javascript\"></script>\n",
    "```\n",
    "\n",
    "**Use**\n",
    "```\n",
    "var input = \"This text should contain a spoiler. Batman dies at the end of the movie.\";\n",
    "Algorithmia.client(\"CLIENT_ID\")\n",
    "  .algo(\"radroid/spoiler_detection/0.1.0?timeout=300\") // timeout is optional\n",
    "  .pipe(input)\n",
    "  .then(function(output) { console.log(output); });\n",
    "```"
   ]
  },
  {
   "cell_type": "markdown",
   "id": "e251b64b",
   "metadata": {},
   "source": [
    "# Extras Code Snippets"
   ]
  },
  {
   "cell_type": "code",
   "execution_count": 43,
   "id": "b2d8c9d2",
   "metadata": {},
   "outputs": [
    {
     "data": {
      "text/plain": [
       "'Here’s a conundrum: how do you wrap up a 22-movie saga, follow up the most iconic shock blockbuster ending since The Empire Strikes Back, and provide a satisfying ending for some of the most beloved screen heroes of the last decade? If you’re Avengers: Endgame, you do it with stunning ease – the Marvel Cinematic Universe’s latest offering a powerful, emotion, thrilling and playful three-hour epic, stuffed with fan service and jaw-dropping pay-offs. Empire sat down with the films directors, Anthony and Joe Russo, and its writers, Christopher Markus and Stephen McFeely, for some spoiler-heavy conversations, talking the film’s major revelations, twists, deaths, and more – and they delivered all kinds of fascinating insights into one of the biggest movies of all time.'"
      ]
     },
     "execution_count": 43,
     "metadata": {},
     "output_type": "execute_result"
    }
   ],
   "source": [
    "test = 'Here’s a conundrum: how do you wrap up a 22-movie saga, follow up the most iconic shock blockbuster ending since The Empire Strikes Back, and provide a satisfying ending for some of the most beloved screen heroes of the last decade? If you’re Avengers: Endgame, you do it with stunning ease – the Marvel Cinematic Universe’s latest offering a powerful, emotion, thrilling and playful three-hour epic, stuffed with fan service and jaw-dropping pay-offs. Empire sat down with the films directors, Anthony and Joe Russo, and its writers, Christopher Markus and Stephen McFeely, for some spoiler-heavy conversations, talking the film’s major revelations, twists, deaths, and more – and they delivered all kinds of fascinating insights into one of the biggest movies of all time.'\n",
    "test"
   ]
  },
  {
   "cell_type": "code",
   "execution_count": 22,
   "id": "6de70ed5",
   "metadata": {},
   "outputs": [],
   "source": [
    "from nltk.corpus import stopwords\n",
    "from nltk.stem import WordNetLemmatizer \n",
    "import re\n",
    "from string import punctuation \n",
    "\n",
    "stop_words =  stopwords.words('english')\n",
    "\n",
    "def text_cleaning(text, remove_stop_words=True, lemmatize_words=True):\n",
    "    # Clean the text, with the option to remove stop_words and to lemmatize word\n",
    "\n",
    "    # Clean the text\n",
    "    text = re.sub(r\"[^A-Za-z0-9]\", \" \", text)\n",
    "    text = re.sub(r\"\\'s\", \" \", text)\n",
    "    text = re.sub(r\"n't\", \" not \", text)\n",
    "    text = re.sub(r\"I'm\", \"I am\", text)\n",
    "    text = re.sub(r\"ur\", \" your \", text)\n",
    "    text = re.sub(r\" nd \",\" and \",text)\n",
    "    text = re.sub(r\"\\'d\", \" would \", text)\n",
    "    text = re.sub(r\"\\'ll\", \" will \", text)\n",
    "    text = re.sub(r\" tkts \",\" tickets \",text)\n",
    "    text = re.sub(r\" c \",\" can \",text)\n",
    "    text = re.sub(r\" e g \", \" eg \", text)\n",
    "    text =  re.sub(r'http\\S+',' link ', text)\n",
    "    text = re.sub(r'\\b\\d+(?:\\.\\d+)?\\s+', '', text) # remove numbers\n",
    "    text = re.sub(r\" u \",\" you \",text)\n",
    "    text = text.lower()  # set in lowercase \n",
    "        \n",
    "    # Remove punctuation from text\n",
    "    text = ''.join([c for c in text if c not in punctuation])\n",
    "    \n",
    "    # Optionally, remove stop words\n",
    "    if remove_stop_words:\n",
    "        text = text.split()\n",
    "        text = [w for w in text if not w in stop_words]\n",
    "        text = \" \".join(text)\n",
    "    \n",
    "    # Optionally, shorten words to their stems\n",
    "    if lemmatize_words:\n",
    "        text = text.split()\n",
    "        lemmatizer = WordNetLemmatizer() \n",
    "        lemmatized_words = [lemmatizer.lemmatize(word) for word in text]\n",
    "        text = \" \".join(lemmatized_words)\n",
    "    \n",
    "    # Return a list of words\n",
    "    return(text)"
   ]
  },
  {
   "cell_type": "code",
   "execution_count": 84,
   "id": "25dfb889",
   "metadata": {},
   "outputs": [
    {
     "name": "stdout",
     "output_type": "stream",
     "text": [
      "462 µs ± 303 ns per loop (mean ± std. dev. of 7 runs, 1000 loops each)\n"
     ]
    }
   ],
   "source": [
    "%%timeit\n",
    "clean_message = text_cleaning(\"This text should contain spoiler. Batman dies at the end of the movie.\")\n",
    "\n",
    "test1 = vectorizer.transform([clean_message])\n",
    "\n",
    "prediction = model.predict_proba(test1)\n",
    "prediction"
   ]
  },
  {
   "cell_type": "code",
   "execution_count": 83,
   "id": "c4a98302",
   "metadata": {},
   "outputs": [
    {
     "data": {
      "text/plain": [
       "92.6"
      ]
     },
     "execution_count": 83,
     "metadata": {},
     "output_type": "execute_result"
    }
   ],
   "source": [
    "# Preprocess and Create numpy array from the input\n",
    "message = \"Snape kills Dumbledore in Harry Potter.\"\n",
    "clean_message = text_cleaning(message)\n",
    "\n",
    "#vectorize the message \n",
    "vect_message = vectorizer.transform([clean_message])\n",
    "\n",
    "prediction = model.predict_proba(vect_message)\n",
    "round(prediction[0][1]*100, 1)"
   ]
  },
  {
   "cell_type": "code",
   "execution_count": null,
   "id": "3c4de8ce",
   "metadata": {},
   "outputs": [],
   "source": []
  }
 ],
 "metadata": {
  "interpreter": {
   "hash": "537b1257e8f3d87214f3bf8d7039d7c6d0483d490c50c1f967a98d26345650d1"
  },
  "kernelspec": {
   "display_name": "Python 3 (ipykernel)",
   "language": "python",
   "name": "python3"
  },
  "language_info": {
   "codemirror_mode": {
    "name": "ipython",
    "version": 3
   },
   "file_extension": ".py",
   "mimetype": "text/x-python",
   "name": "python",
   "nbconvert_exporter": "python",
   "pygments_lexer": "ipython3",
   "version": "3.9.7"
  }
 },
 "nbformat": 4,
 "nbformat_minor": 5
}
