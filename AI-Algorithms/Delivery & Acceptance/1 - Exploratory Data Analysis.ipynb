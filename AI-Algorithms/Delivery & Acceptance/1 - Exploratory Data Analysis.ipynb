{
 "cells": [
  {
   "cell_type": "markdown",
   "id": "ec44b425",
   "metadata": {},
   "source": [
    "# 1 - Exploratory Data Analysis\n",
    "In this noteboook, we will explore the [IMDb Spoilers Dataset](https://www.kaggle.com/rmisra/imdb-spoiler-dataset), through tables and visuals."
   ]
  },
  {
   "cell_type": "code",
   "execution_count": 1,
   "id": "3d893f91",
   "metadata": {},
   "outputs": [],
   "source": [
    "import pandas as pd\n",
    "import numpy as np\n",
    "import os\n",
    "import pathlib\n",
    "\n",
    "import matplotlib.pyplot as plt"
   ]
  },
  {
   "cell_type": "markdown",
   "id": "88f9cfb5",
   "metadata": {},
   "source": [
    "Kaggle API is used to download the dataset from kaggle.\n",
    "\n",
    "> _**Note**: There is a lot of documentation on how to use the Kaggle API in the command line interface (CLI). Some resources that might be helpful in setting up your system for `kaggle` python module are listed below._\n",
    "\n",
    "> - [Techno Whisp](https://technowhisp.com/kaggle-api-python-documentation/) - Best online resource\n",
    "> - [GitHub](https://github.com/Kaggle/kaggle-api) - Official Installation Documentation\n",
    "> - [Kaggle](https://www.kaggle.com/docs/api) - Official Installation Documentation\n",
    "\n",
    "The below cell will only run after kaggle is setup."
   ]
  },
  {
   "cell_type": "markdown",
   "id": "f2201f54",
   "metadata": {},
   "source": [
    "# Downloading Data"
   ]
  },
  {
   "cell_type": "code",
   "execution_count": 2,
   "id": "d9d8e3a0",
   "metadata": {},
   "outputs": [],
   "source": [
    "from kaggle.api.kaggle_api_extended import KaggleApi\n",
    "api = KaggleApi()\n",
    "api.authenticate()"
   ]
  },
  {
   "cell_type": "code",
   "execution_count": 3,
   "id": "f61b8e26",
   "metadata": {},
   "outputs": [
    {
     "data": {
      "text/plain": [
       "[IMDB_movie_details.json, IMDB_reviews.json]"
      ]
     },
     "execution_count": 3,
     "metadata": {},
     "output_type": "execute_result"
    }
   ],
   "source": [
    "# See the files present.\n",
    "api.dataset_list_files('rmisra/imdb-spoiler-dataset').files"
   ]
  },
  {
   "cell_type": "code",
   "execution_count": 4,
   "id": "836625d9",
   "metadata": {},
   "outputs": [],
   "source": [
    "# update the following variable to True to download the files listed above.\n",
    "download_files = False\n",
    "\n",
    "if download_files:\n",
    "    # define the location of download.\n",
    "    path = pathlib.Path('../data/org_dataset')\n",
    "    print(f'Does path exist? - {path.exists()}')\n",
    "\n",
    "    # Download all files of a dataset\n",
    "    # Signature: dataset_download_files(dataset, path=None, force=False, quiet=True, unzip=False)\n",
    "    api.dataset_download_files('rmisra/imdb-spoiler-dataset', path=path)"
   ]
  },
  {
   "cell_type": "markdown",
   "id": "56638d6b",
   "metadata": {},
   "source": [
    "# Data Concating"
   ]
  },
  {
   "cell_type": "code",
   "execution_count": 5,
   "id": "03b101cb",
   "metadata": {},
   "outputs": [],
   "source": [
    "# Update the following variable to consider the full dataset instead of a smaller sample.\n",
    "use_sample = False\n",
    "\n",
    "# locate data files\n",
    "filenames = ['IMDB_movie_details.json', 'IMDB_reviews.json']\n",
    "data_dir = pathlib.Path('../data/org_dataset')\n",
    "\n",
    "if use_sample:\n",
    "    data_dir = pathlib.Path('../data/sample_dataset')\n",
    "\n",
    "# Read the json files.\n",
    "movies_df = pd.read_json(data_dir / 'IMDB_movie_details.json', lines=True)\n",
    "reviews_df = pd.read_json(data_dir / 'IMDB_reviews.json', lines=True)"
   ]
  },
  {
   "cell_type": "code",
   "execution_count": 6,
   "id": "d745807c",
   "metadata": {},
   "outputs": [
    {
     "name": "stdout",
     "output_type": "stream",
     "text": [
      "<class 'pandas.core.frame.DataFrame'>\n",
      "RangeIndex: 573913 entries, 0 to 573912\n",
      "Data columns (total 7 columns):\n",
      " #   Column          Non-Null Count   Dtype \n",
      "---  ------          --------------   ----- \n",
      " 0   review_date     573913 non-null  object\n",
      " 1   movie_id        573913 non-null  object\n",
      " 2   user_id         573913 non-null  object\n",
      " 3   is_spoiler      573913 non-null  bool  \n",
      " 4   review_text     573913 non-null  object\n",
      " 5   rating          573913 non-null  int64 \n",
      " 6   review_summary  573913 non-null  object\n",
      "dtypes: bool(1), int64(1), object(5)\n",
      "memory usage: 26.8+ MB\n"
     ]
    }
   ],
   "source": [
    "reviews_df.info()"
   ]
  },
  {
   "cell_type": "code",
   "execution_count": 7,
   "id": "2e5453f6",
   "metadata": {},
   "outputs": [
    {
     "name": "stdout",
     "output_type": "stream",
     "text": [
      "<class 'pandas.core.frame.DataFrame'>\n",
      "RangeIndex: 1572 entries, 0 to 1571\n",
      "Data columns (total 7 columns):\n",
      " #   Column         Non-Null Count  Dtype  \n",
      "---  ------         --------------  -----  \n",
      " 0   movie_id       1572 non-null   object \n",
      " 1   plot_summary   1572 non-null   object \n",
      " 2   duration       1572 non-null   object \n",
      " 3   genre          1572 non-null   object \n",
      " 4   rating         1572 non-null   float64\n",
      " 5   release_date   1572 non-null   object \n",
      " 6   plot_synopsis  1572 non-null   object \n",
      "dtypes: float64(1), object(6)\n",
      "memory usage: 86.1+ KB\n"
     ]
    }
   ],
   "source": [
    "movies_df.info()"
   ]
  },
  {
   "cell_type": "code",
   "execution_count": 8,
   "id": "f5d8ae7a",
   "metadata": {},
   "outputs": [
    {
     "data": {
      "text/plain": [
       "(            rating\n",
       " count  1572.000000\n",
       " mean      7.071819\n",
       " std       0.967966\n",
       " min       2.400000\n",
       " 25%       6.500000\n",
       " 50%       7.100000\n",
       " 75%       7.800000\n",
       " max       9.500000,\n",
       "               rating\n",
       " count  573913.000000\n",
       " mean        6.954254\n",
       " std         2.956295\n",
       " min         1.000000\n",
       " 25%         5.000000\n",
       " 50%         8.000000\n",
       " 75%        10.000000\n",
       " max        10.000000)"
      ]
     },
     "execution_count": 8,
     "metadata": {},
     "output_type": "execute_result"
    }
   ],
   "source": [
    "# the rating column, though common between the tables, is not the same for both.\n",
    "movies_df.describe(), reviews_df.describe()"
   ]
  },
  {
   "cell_type": "code",
   "execution_count": 9,
   "id": "dba9e062",
   "metadata": {},
   "outputs": [],
   "source": [
    "# rename ratings before merging the tables.\n",
    "movies_df['avg_movie_rating'] = movies_df['rating']\n",
    "movies_df2 = movies_df.drop('rating', axis=1)\n",
    "\n",
    "reviews_df['rating_by_user'] = reviews_df['rating']\n",
    "reviews_df2 = reviews_df.drop('rating', axis=1)"
   ]
  },
  {
   "cell_type": "code",
   "execution_count": 10,
   "id": "870e7086",
   "metadata": {},
   "outputs": [
    {
     "name": "stdout",
     "output_type": "stream",
     "text": [
      "<class 'pandas.core.frame.DataFrame'>\n",
      "Int64Index: 573913 entries, 0 to 573912\n",
      "Data columns (total 13 columns):\n",
      " #   Column            Non-Null Count   Dtype  \n",
      "---  ------            --------------   -----  \n",
      " 0   review_date       573913 non-null  object \n",
      " 1   movie_id          573913 non-null  object \n",
      " 2   user_id           573913 non-null  object \n",
      " 3   is_spoiler        573913 non-null  bool   \n",
      " 4   review_text       573913 non-null  object \n",
      " 5   review_summary    573913 non-null  object \n",
      " 6   rating_by_user    573913 non-null  int64  \n",
      " 7   plot_summary      573906 non-null  object \n",
      " 8   duration          573906 non-null  object \n",
      " 9   genre             573906 non-null  object \n",
      " 10  release_date      573906 non-null  object \n",
      " 11  plot_synopsis     573906 non-null  object \n",
      " 12  avg_movie_rating  573906 non-null  float64\n",
      "dtypes: bool(1), float64(1), int64(1), object(10)\n",
      "memory usage: 57.5+ MB\n"
     ]
    }
   ],
   "source": [
    "# joining the two dataframes with `movie_id`\n",
    "imdb_df = pd.merge(reviews_df2, movies_df2, 'left', on='movie_id')\n",
    "imdb_df.info()"
   ]
  },
  {
   "cell_type": "markdown",
   "id": "661a5059",
   "metadata": {},
   "source": [
    "# Saving Data"
   ]
  },
  {
   "cell_type": "code",
   "execution_count": 11,
   "id": "28a496c4",
   "metadata": {},
   "outputs": [
    {
     "name": "stdout",
     "output_type": "stream",
     "text": [
      "File saved to ../data/org_dataset/imdb_full_dataset.csv.\n"
     ]
    }
   ],
   "source": [
    "# Save data into the org_dataset folder.\n",
    "path = data_dir / 'imdb_full_dataset.csv'\n",
    "imdb_df.to_csv(path, index=False)\n",
    "\n",
    "if path.exists():\n",
    "    print(f'File saved to {path}.')\n",
    "else:\n",
    "    print('File not saved.')"
   ]
  },
  {
   "cell_type": "markdown",
   "id": "776b1f79",
   "metadata": {},
   "source": [
    "# Exploratory Data Analysis"
   ]
  },
  {
   "cell_type": "code",
   "execution_count": 12,
   "id": "ab18d6f4",
   "metadata": {},
   "outputs": [
    {
     "data": {
      "text/html": [
       "<div>\n",
       "<style scoped>\n",
       "    .dataframe tbody tr th:only-of-type {\n",
       "        vertical-align: middle;\n",
       "    }\n",
       "\n",
       "    .dataframe tbody tr th {\n",
       "        vertical-align: top;\n",
       "    }\n",
       "\n",
       "    .dataframe thead th {\n",
       "        text-align: right;\n",
       "    }\n",
       "</style>\n",
       "<table border=\"1\" class=\"dataframe\">\n",
       "  <thead>\n",
       "    <tr style=\"text-align: right;\">\n",
       "      <th></th>\n",
       "      <th>rating_by_user</th>\n",
       "      <th>avg_movie_rating</th>\n",
       "    </tr>\n",
       "  </thead>\n",
       "  <tbody>\n",
       "    <tr>\n",
       "      <th>count</th>\n",
       "      <td>573913.000000</td>\n",
       "      <td>573906.000000</td>\n",
       "    </tr>\n",
       "    <tr>\n",
       "      <th>mean</th>\n",
       "      <td>6.954254</td>\n",
       "      <td>7.293693</td>\n",
       "    </tr>\n",
       "    <tr>\n",
       "      <th>std</th>\n",
       "      <td>2.956295</td>\n",
       "      <td>0.959311</td>\n",
       "    </tr>\n",
       "    <tr>\n",
       "      <th>min</th>\n",
       "      <td>1.000000</td>\n",
       "      <td>2.400000</td>\n",
       "    </tr>\n",
       "    <tr>\n",
       "      <th>25%</th>\n",
       "      <td>5.000000</td>\n",
       "      <td>6.700000</td>\n",
       "    </tr>\n",
       "    <tr>\n",
       "      <th>50%</th>\n",
       "      <td>8.000000</td>\n",
       "      <td>7.400000</td>\n",
       "    </tr>\n",
       "    <tr>\n",
       "      <th>75%</th>\n",
       "      <td>10.000000</td>\n",
       "      <td>8.000000</td>\n",
       "    </tr>\n",
       "    <tr>\n",
       "      <th>max</th>\n",
       "      <td>10.000000</td>\n",
       "      <td>9.500000</td>\n",
       "    </tr>\n",
       "  </tbody>\n",
       "</table>\n",
       "</div>"
      ],
      "text/plain": [
       "       rating_by_user  avg_movie_rating\n",
       "count   573913.000000     573906.000000\n",
       "mean         6.954254          7.293693\n",
       "std          2.956295          0.959311\n",
       "min          1.000000          2.400000\n",
       "25%          5.000000          6.700000\n",
       "50%          8.000000          7.400000\n",
       "75%         10.000000          8.000000\n",
       "max         10.000000          9.500000"
      ]
     },
     "execution_count": 12,
     "metadata": {},
     "output_type": "execute_result"
    }
   ],
   "source": [
    "imdb_df.describe()"
   ]
  },
  {
   "cell_type": "code",
   "execution_count": 13,
   "id": "7238c722",
   "metadata": {},
   "outputs": [
    {
     "data": {
      "text/plain": [
       "Text(0, 0.5, 'Number of reviews')"
      ]
     },
     "execution_count": 13,
     "metadata": {},
     "output_type": "execute_result"
    },
    {
     "data": {
      "image/png": "[encoded data removed]",
      "text/plain": [
       "<Figure size 504x360 with 1 Axes>"
      ]
     },
     "metadata": {
      "needs_background": "light"
     },
     "output_type": "display_data"
    }
   ],
   "source": [
    "fig, ax = plt.subplots(figsize=(7,5))\n",
    "\n",
    "imdb_df['is_spoiler'].value_counts().plot(kind='bar', ax=ax)\n",
    "\n",
    "ax.set_title('Reviews with Spoilers (target variable) in the dataset.',\n",
    "             fontdict={'size': 16, 'weight': 'bold'}, pad=20)\n",
    "ax.set_xlabel('Review contains spoiler?')\n",
    "ax.set_ylabel('Number of reviews')"
   ]
  },
  {
   "cell_type": "markdown",
   "id": "1440fa56",
   "metadata": {},
   "source": [
    "From the above visual, we know that the dataset is highly biased - there are many more examples of non-spoiler reviews than with spoiler. Some data processing might be required to get rid of the discrepency in the data. Suggested action:\n",
    "- PCA\n",
    "- Synthetic \n"
   ]
  },
  {
   "cell_type": "code",
   "execution_count": 14,
   "id": "ed25bc2b",
   "metadata": {},
   "outputs": [
    {
     "name": "stdout",
     "output_type": "stream",
     "text": [
      "Top 5 movie reviewers.\n"
     ]
    },
    {
     "data": {
      "text/plain": [
       "user_id\n",
       "ur2898520     1303\n",
       "ur4248714     1021\n",
       "ur0453068      806\n",
       "ur60028700     770\n",
       "ur20552756     755\n",
       "ur4888011      701\n",
       "ur2488512      681\n",
       "ur1234929      680\n",
       "ur1293485      660\n",
       "ur0482513      641\n",
       "Name: movie_id, dtype: int64"
      ]
     },
     "execution_count": 14,
     "metadata": {},
     "output_type": "execute_result"
    }
   ],
   "source": [
    "# View the top movie reviewers in the dataset.\n",
    "print('Top 5 movie reviewers.')\n",
    "imdb_df.groupby('user_id').count()['movie_id'].sort_values(ascending=False).head(10)"
   ]
  },
  {
   "cell_type": "code",
   "execution_count": 15,
   "id": "e3b80e67",
   "metadata": {},
   "outputs": [
    {
     "name": "stdout",
     "output_type": "stream",
     "text": [
      "Top 5 movies reviewed.\n"
     ]
    },
    {
     "data": {
      "text/plain": [
       "movie_id\n",
       "tt0468569    4845\n",
       "tt0111161    4361\n",
       "tt0167260    2729\n",
       "tt0137523    2480\n",
       "tt0068646    2137\n",
       "tt0110912    1994\n",
       "tt0108052    1151\n",
       "tt0050083     916\n",
       "tt0803096     751\n",
       "tt5109784     751\n",
       "Name: user_id, dtype: int64"
      ]
     },
     "execution_count": 15,
     "metadata": {},
     "output_type": "execute_result"
    }
   ],
   "source": [
    "# Which movies recieved the most number of reviews?\n",
    "print('Top 5 movies reviewed.')\n",
    "top10_movies = imdb_df.groupby('movie_id').count()['user_id'].sort_values(ascending=False).head(10)\n",
    "top10_movies"
   ]
  },
  {
   "cell_type": "code",
   "execution_count": 16,
   "id": "71d1c4d7",
   "metadata": {},
   "outputs": [
    {
     "name": "stdout",
     "output_type": "stream",
     "text": [
      "Set within a year after the events of Batman Begins, Batman, Lieutenant James Gordon, and new district attorney Harvey Dent successfully begin to round up the criminals that plague Gotham City until a mysterious and sadistic criminal mastermind known only as the Joker appears in Gotham, creating a new wave of chaos. Batman's struggle against the Joker becomes deeply personal, forcing him to \"confront everything he believes\" and improve his technology to stop him. A love triangle develops between Bruce Wayne, Dent and Rachel Dawes.                Written by\n",
      "Leon Lombardi\n"
     ]
    }
   ],
   "source": [
    "#plot synapses of the top 3\n",
    "for movie_id in top10_movies.iloc[:3].index:\n",
    "    print(imdb_df[imdb_df['movie_id'] == movie_id].iloc[0]['plot_summary'])\n",
    "    break"
   ]
  },
  {
   "cell_type": "markdown",
   "id": "fc4dda17",
   "metadata": {},
   "source": [
    "spoiler_ratio = (# of movies with spoilers) / (# of movies)"
   ]
  },
  {
   "cell_type": "code",
   "execution_count": 17,
   "id": "7c70657c",
   "metadata": {},
   "outputs": [
    {
     "data": {
      "text/html": [
       "<div>\n",
       "<style scoped>\n",
       "    .dataframe tbody tr th:only-of-type {\n",
       "        vertical-align: middle;\n",
       "    }\n",
       "\n",
       "    .dataframe tbody tr th {\n",
       "        vertical-align: top;\n",
       "    }\n",
       "\n",
       "    .dataframe thead th {\n",
       "        text-align: right;\n",
       "    }\n",
       "</style>\n",
       "<table border=\"1\" class=\"dataframe\">\n",
       "  <thead>\n",
       "    <tr style=\"text-align: right;\">\n",
       "      <th></th>\n",
       "      <th>is_spoiler</th>\n",
       "      <th>avg_movie_rating</th>\n",
       "    </tr>\n",
       "    <tr>\n",
       "      <th>rating_by_user</th>\n",
       "      <th></th>\n",
       "      <th></th>\n",
       "    </tr>\n",
       "  </thead>\n",
       "  <tbody>\n",
       "    <tr>\n",
       "      <th>1</th>\n",
       "      <td>0.303809</td>\n",
       "      <td>6.932034</td>\n",
       "    </tr>\n",
       "    <tr>\n",
       "      <th>2</th>\n",
       "      <td>0.332841</td>\n",
       "      <td>6.905826</td>\n",
       "    </tr>\n",
       "    <tr>\n",
       "      <th>3</th>\n",
       "      <td>0.333727</td>\n",
       "      <td>6.949326</td>\n",
       "    </tr>\n",
       "    <tr>\n",
       "      <th>4</th>\n",
       "      <td>0.330235</td>\n",
       "      <td>6.946865</td>\n",
       "    </tr>\n",
       "    <tr>\n",
       "      <th>5</th>\n",
       "      <td>0.317686</td>\n",
       "      <td>6.983820</td>\n",
       "    </tr>\n",
       "    <tr>\n",
       "      <th>6</th>\n",
       "      <td>0.293556</td>\n",
       "      <td>7.016467</td>\n",
       "    </tr>\n",
       "    <tr>\n",
       "      <th>7</th>\n",
       "      <td>0.269007</td>\n",
       "      <td>7.093468</td>\n",
       "    </tr>\n",
       "    <tr>\n",
       "      <th>8</th>\n",
       "      <td>0.253275</td>\n",
       "      <td>7.284896</td>\n",
       "    </tr>\n",
       "    <tr>\n",
       "      <th>9</th>\n",
       "      <td>0.241924</td>\n",
       "      <td>7.542058</td>\n",
       "    </tr>\n",
       "    <tr>\n",
       "      <th>10</th>\n",
       "      <td>0.208325</td>\n",
       "      <td>7.700185</td>\n",
       "    </tr>\n",
       "  </tbody>\n",
       "</table>\n",
       "</div>"
      ],
      "text/plain": [
       "                is_spoiler  avg_movie_rating\n",
       "rating_by_user                              \n",
       "1                 0.303809          6.932034\n",
       "2                 0.332841          6.905826\n",
       "3                 0.333727          6.949326\n",
       "4                 0.330235          6.946865\n",
       "5                 0.317686          6.983820\n",
       "6                 0.293556          7.016467\n",
       "7                 0.269007          7.093468\n",
       "8                 0.253275          7.284896\n",
       "9                 0.241924          7.542058\n",
       "10                0.208325          7.700185"
      ]
     },
     "execution_count": 17,
     "metadata": {},
     "output_type": "execute_result"
    }
   ],
   "source": [
    "imdb_df.groupby('rating_by_user').mean()"
   ]
  },
  {
   "cell_type": "code",
   "execution_count": 18,
   "id": "41c7dcee",
   "metadata": {},
   "outputs": [
    {
     "data": {
      "text/plain": [
       "1572"
      ]
     },
     "execution_count": 18,
     "metadata": {},
     "output_type": "execute_result"
    }
   ],
   "source": [
    "# how many different movies are there in the dataset.\n",
    "len(imdb_df['movie_id'].unique())"
   ]
  },
  {
   "cell_type": "code",
   "execution_count": 19,
   "id": "2c16b930",
   "metadata": {},
   "outputs": [
    {
     "data": {
      "text/plain": [
       "263407"
      ]
     },
     "execution_count": 19,
     "metadata": {},
     "output_type": "execute_result"
    }
   ],
   "source": [
    "# how many different users are there in the dataset.\n",
    "len(imdb_df['user_id'].unique())"
   ]
  },
  {
   "cell_type": "code",
   "execution_count": null,
   "id": "d7042878",
   "metadata": {},
   "outputs": [],
   "source": []
  }
 ],
 "metadata": {
  "interpreter": {
   "hash": "537b1257e8f3d87214f3bf8d7039d7c6d0483d490c50c1f967a98d26345650d1"
  },
  "kernelspec": {
   "display_name": "Python 3 (ipykernel)",
   "language": "python",
   "name": "python3"
  },
  "language_info": {
   "codemirror_mode": {
    "name": "ipython",
    "version": 3
   },
   "file_extension": ".py",
   "mimetype": "text/x-python",
   "name": "python",
   "nbconvert_exporter": "python",
   "pygments_lexer": "ipython3",
   "version": "3.9.7"
  }
 },
 "nbformat": 4,
 "nbformat_minor": 5
}
